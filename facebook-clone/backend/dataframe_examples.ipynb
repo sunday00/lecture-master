{
 "cells": [
  {
   "cell_type": "code",
   "execution_count": 7,
   "metadata": {},
   "outputs": [
    {
     "data": {
      "text/html": [
       "<div>\n",
       "<style scoped>\n",
       "    .dataframe tbody tr th:only-of-type {\n",
       "        vertical-align: middle;\n",
       "    }\n",
       "\n",
       "    .dataframe tbody tr th {\n",
       "        vertical-align: top;\n",
       "    }\n",
       "\n",
       "    .dataframe thead th {\n",
       "        text-align: right;\n",
       "    }\n",
       "</style>\n",
       "<table border=\"1\" class=\"dataframe\">\n",
       "  <thead>\n",
       "    <tr style=\"text-align: right;\">\n",
       "      <th></th>\n",
       "      <th></th>\n",
       "      <th>K</th>\n",
       "      <th>E</th>\n",
       "      <th>M</th>\n",
       "      <th>O</th>\n",
       "      <th>S</th>\n",
       "    </tr>\n",
       "  </thead>\n",
       "  <tbody>\n",
       "    <tr>\n",
       "      <th rowspan=\"5\" valign=\"top\">1g</th>\n",
       "      <th>1c</th>\n",
       "      <td>51</td>\n",
       "      <td>67</td>\n",
       "      <td>67</td>\n",
       "      <td>90</td>\n",
       "      <td>58</td>\n",
       "    </tr>\n",
       "    <tr>\n",
       "      <th>2c</th>\n",
       "      <td>81</td>\n",
       "      <td>95</td>\n",
       "      <td>57</td>\n",
       "      <td>93</td>\n",
       "      <td>67</td>\n",
       "    </tr>\n",
       "    <tr>\n",
       "      <th>3c</th>\n",
       "      <td>69</td>\n",
       "      <td>88</td>\n",
       "      <td>92</td>\n",
       "      <td>82</td>\n",
       "      <td>87</td>\n",
       "    </tr>\n",
       "    <tr>\n",
       "      <th>4c</th>\n",
       "      <td>75</td>\n",
       "      <td>99</td>\n",
       "      <td>61</td>\n",
       "      <td>51</td>\n",
       "      <td>85</td>\n",
       "    </tr>\n",
       "    <tr>\n",
       "      <th>5c</th>\n",
       "      <td>53</td>\n",
       "      <td>77</td>\n",
       "      <td>57</td>\n",
       "      <td>84</td>\n",
       "      <td>58</td>\n",
       "    </tr>\n",
       "    <tr>\n",
       "      <th rowspan=\"5\" valign=\"top\">2g</th>\n",
       "      <th>1c</th>\n",
       "      <td>75</td>\n",
       "      <td>82</td>\n",
       "      <td>59</td>\n",
       "      <td>53</td>\n",
       "      <td>64</td>\n",
       "    </tr>\n",
       "    <tr>\n",
       "      <th>2c</th>\n",
       "      <td>74</td>\n",
       "      <td>87</td>\n",
       "      <td>96</td>\n",
       "      <td>78</td>\n",
       "      <td>61</td>\n",
       "    </tr>\n",
       "    <tr>\n",
       "      <th>3c</th>\n",
       "      <td>58</td>\n",
       "      <td>81</td>\n",
       "      <td>54</td>\n",
       "      <td>92</td>\n",
       "      <td>90</td>\n",
       "    </tr>\n",
       "    <tr>\n",
       "      <th>4c</th>\n",
       "      <td>79</td>\n",
       "      <td>73</td>\n",
       "      <td>51</td>\n",
       "      <td>72</td>\n",
       "      <td>75</td>\n",
       "    </tr>\n",
       "    <tr>\n",
       "      <th>5c</th>\n",
       "      <td>76</td>\n",
       "      <td>59</td>\n",
       "      <td>52</td>\n",
       "      <td>90</td>\n",
       "      <td>83</td>\n",
       "    </tr>\n",
       "  </tbody>\n",
       "</table>\n",
       "</div>"
      ],
      "text/plain": [
       "        K   E   M   O   S\n",
       "1g 1c  51  67  67  90  58\n",
       "   2c  81  95  57  93  67\n",
       "   3c  69  88  92  82  87\n",
       "   4c  75  99  61  51  85\n",
       "   5c  53  77  57  84  58\n",
       "2g 1c  75  82  59  53  64\n",
       "   2c  74  87  96  78  61\n",
       "   3c  58  81  54  92  90\n",
       "   4c  79  73  51  72  75\n",
       "   5c  76  59  52  90  83"
      ]
     },
     "execution_count": 7,
     "metadata": {},
     "output_type": "execute_result"
    }
   ],
   "source": [
    "import numpy as np\n",
    "import pandas as pd\n",
    "\n",
    "df = pd.DataFrame(np.random.randint(50,100, size=(10,5)), index=[\n",
    "  [ '1g' for i in range(5) ] + ['2g' for i in range(5) ], [str(i)+'c' for i in range(1, 6)] + [str(i)+'c' for i in range(1, 6)]\n",
    "], columns=['K', 'E', 'M', 'O', 'S'])\n",
    "df"
   ]
  },
  {
   "cell_type": "code",
   "execution_count": 8,
   "metadata": {},
   "outputs": [
    {
     "name": "stdout",
     "output_type": "stream",
     "text": [
      "<class 'pandas.core.frame.DataFrame'>\n",
      "MultiIndex: 10 entries, ('1g', '1c') to ('2g', '5c')\n",
      "Data columns (total 5 columns):\n",
      " #   Column  Non-Null Count  Dtype\n",
      "---  ------  --------------  -----\n",
      " 0   K       10 non-null     int64\n",
      " 1   E       10 non-null     int64\n",
      " 2   M       10 non-null     int64\n",
      " 3   O       10 non-null     int64\n",
      " 4   S       10 non-null     int64\n",
      "dtypes: int64(5)\n",
      "memory usage: 788.0+ bytes\n"
     ]
    }
   ],
   "source": [
    "df.info()"
   ]
  },
  {
   "cell_type": "code",
   "execution_count": 12,
   "metadata": {},
   "outputs": [
    {
     "data": {
      "text/plain": [
       "K    int64\n",
       "E    int64\n",
       "M    int64\n",
       "O    int64\n",
       "S    int64\n",
       "dtype: object"
      ]
     },
     "execution_count": 12,
     "metadata": {},
     "output_type": "execute_result"
    }
   ],
   "source": [
    "df.dtypes"
   ]
  },
  {
   "cell_type": "code",
   "execution_count": 16,
   "metadata": {},
   "outputs": [
    {
     "name": "stdout",
     "output_type": "stream",
     "text": [
      "        K   E   M   O   S\n",
      "1g 1c  51  67  67  90  58\n",
      "   2c  81  95  57  93  67\n",
      "   3c  69  88  92  82  87\n",
      "        K   E   M   O   S\n",
      "2g 3c  58  81  54  92  90\n",
      "   4c  79  73  51  72  75\n",
      "   5c  76  59  52  90  83\n"
     ]
    }
   ],
   "source": [
    "print( df.head(3) )\n",
    "print( df.tail(3) )"
   ]
  },
  {
   "cell_type": "code",
   "execution_count": 17,
   "metadata": {},
   "outputs": [
    {
     "data": {
      "text/plain": [
       "MultiIndex([('1g', '1c'),\n",
       "            ('1g', '2c'),\n",
       "            ('1g', '3c'),\n",
       "            ('1g', '4c'),\n",
       "            ('1g', '5c'),\n",
       "            ('2g', '1c'),\n",
       "            ('2g', '2c'),\n",
       "            ('2g', '3c'),\n",
       "            ('2g', '4c'),\n",
       "            ('2g', '5c')],\n",
       "           )"
      ]
     },
     "execution_count": 17,
     "metadata": {},
     "output_type": "execute_result"
    }
   ],
   "source": [
    "df.index"
   ]
  },
  {
   "cell_type": "code",
   "execution_count": 18,
   "metadata": {},
   "outputs": [
    {
     "data": {
      "text/plain": [
       "array([[51, 67, 67, 90, 58],\n",
       "       [81, 95, 57, 93, 67],\n",
       "       [69, 88, 92, 82, 87],\n",
       "       [75, 99, 61, 51, 85],\n",
       "       [53, 77, 57, 84, 58],\n",
       "       [75, 82, 59, 53, 64],\n",
       "       [74, 87, 96, 78, 61],\n",
       "       [58, 81, 54, 92, 90],\n",
       "       [79, 73, 51, 72, 75],\n",
       "       [76, 59, 52, 90, 83]])"
      ]
     },
     "execution_count": 18,
     "metadata": {},
     "output_type": "execute_result"
    }
   ],
   "source": [
    "df.values"
   ]
  },
  {
   "cell_type": "code",
   "execution_count": 19,
   "metadata": {},
   "outputs": [
    {
     "data": {
      "text/html": [
       "<div>\n",
       "<style scoped>\n",
       "    .dataframe tbody tr th:only-of-type {\n",
       "        vertical-align: middle;\n",
       "    }\n",
       "\n",
       "    .dataframe tbody tr th {\n",
       "        vertical-align: top;\n",
       "    }\n",
       "\n",
       "    .dataframe thead th {\n",
       "        text-align: right;\n",
       "    }\n",
       "</style>\n",
       "<table border=\"1\" class=\"dataframe\">\n",
       "  <thead>\n",
       "    <tr style=\"text-align: right;\">\n",
       "      <th></th>\n",
       "      <th>K</th>\n",
       "      <th>E</th>\n",
       "      <th>M</th>\n",
       "      <th>O</th>\n",
       "      <th>S</th>\n",
       "    </tr>\n",
       "  </thead>\n",
       "  <tbody>\n",
       "    <tr>\n",
       "      <th>count</th>\n",
       "      <td>10.000000</td>\n",
       "      <td>10.000000</td>\n",
       "      <td>10.000000</td>\n",
       "      <td>10.000000</td>\n",
       "      <td>10.000000</td>\n",
       "    </tr>\n",
       "    <tr>\n",
       "      <th>mean</th>\n",
       "      <td>69.100000</td>\n",
       "      <td>80.800000</td>\n",
       "      <td>64.600000</td>\n",
       "      <td>78.500000</td>\n",
       "      <td>72.800000</td>\n",
       "    </tr>\n",
       "    <tr>\n",
       "      <th>std</th>\n",
       "      <td>11.009592</td>\n",
       "      <td>12.318008</td>\n",
       "      <td>16.187787</td>\n",
       "      <td>15.450638</td>\n",
       "      <td>12.664912</td>\n",
       "    </tr>\n",
       "    <tr>\n",
       "      <th>min</th>\n",
       "      <td>51.000000</td>\n",
       "      <td>59.000000</td>\n",
       "      <td>51.000000</td>\n",
       "      <td>51.000000</td>\n",
       "      <td>58.000000</td>\n",
       "    </tr>\n",
       "    <tr>\n",
       "      <th>25%</th>\n",
       "      <td>60.750000</td>\n",
       "      <td>74.000000</td>\n",
       "      <td>54.750000</td>\n",
       "      <td>73.500000</td>\n",
       "      <td>61.750000</td>\n",
       "    </tr>\n",
       "    <tr>\n",
       "      <th>50%</th>\n",
       "      <td>74.500000</td>\n",
       "      <td>81.500000</td>\n",
       "      <td>58.000000</td>\n",
       "      <td>83.000000</td>\n",
       "      <td>71.000000</td>\n",
       "    </tr>\n",
       "    <tr>\n",
       "      <th>75%</th>\n",
       "      <td>75.750000</td>\n",
       "      <td>87.750000</td>\n",
       "      <td>65.500000</td>\n",
       "      <td>90.000000</td>\n",
       "      <td>84.500000</td>\n",
       "    </tr>\n",
       "    <tr>\n",
       "      <th>max</th>\n",
       "      <td>81.000000</td>\n",
       "      <td>99.000000</td>\n",
       "      <td>96.000000</td>\n",
       "      <td>93.000000</td>\n",
       "      <td>90.000000</td>\n",
       "    </tr>\n",
       "  </tbody>\n",
       "</table>\n",
       "</div>"
      ],
      "text/plain": [
       "               K          E          M          O          S\n",
       "count  10.000000  10.000000  10.000000  10.000000  10.000000\n",
       "mean   69.100000  80.800000  64.600000  78.500000  72.800000\n",
       "std    11.009592  12.318008  16.187787  15.450638  12.664912\n",
       "min    51.000000  59.000000  51.000000  51.000000  58.000000\n",
       "25%    60.750000  74.000000  54.750000  73.500000  61.750000\n",
       "50%    74.500000  81.500000  58.000000  83.000000  71.000000\n",
       "75%    75.750000  87.750000  65.500000  90.000000  84.500000\n",
       "max    81.000000  99.000000  96.000000  93.000000  90.000000"
      ]
     },
     "execution_count": 19,
     "metadata": {},
     "output_type": "execute_result"
    }
   ],
   "source": [
    "df.describe()"
   ]
  },
  {
   "cell_type": "code",
   "execution_count": 23,
   "metadata": {},
   "outputs": [
    {
     "name": "stdout",
     "output_type": "stream",
     "text": [
      "1g  1c    51\n",
      "    2c    81\n",
      "    3c    69\n",
      "    4c    75\n",
      "    5c    53\n",
      "2g  1c    75\n",
      "    2c    74\n",
      "    3c    58\n",
      "    4c    79\n",
      "    5c    76\n",
      "Name: K, dtype: int64\n",
      "1g  1c    51\n",
      "    2c    81\n",
      "    3c    69\n",
      "    4c    75\n",
      "    5c    53\n",
      "2g  1c    75\n",
      "    2c    74\n",
      "    3c    58\n",
      "    4c    79\n",
      "    5c    76\n",
      "Name: K, dtype: int64\n",
      "        K   E   M   O   S\n",
      "1g 3c  69  88  92  82  87\n",
      "   4c  75  99  61  51  85\n"
     ]
    }
   ],
   "source": [
    "print( df.K )\n",
    "print( df['K'] )\n",
    "print( df[2:4] )"
   ]
  },
  {
   "cell_type": "code",
   "execution_count": 25,
   "metadata": {},
   "outputs": [
    {
     "data": {
      "text/html": [
       "<div>\n",
       "<style scoped>\n",
       "    .dataframe tbody tr th:only-of-type {\n",
       "        vertical-align: middle;\n",
       "    }\n",
       "\n",
       "    .dataframe tbody tr th {\n",
       "        vertical-align: top;\n",
       "    }\n",
       "\n",
       "    .dataframe thead th {\n",
       "        text-align: right;\n",
       "    }\n",
       "</style>\n",
       "<table border=\"1\" class=\"dataframe\">\n",
       "  <thead>\n",
       "    <tr style=\"text-align: right;\">\n",
       "      <th></th>\n",
       "      <th></th>\n",
       "      <th>K</th>\n",
       "      <th>E</th>\n",
       "    </tr>\n",
       "  </thead>\n",
       "  <tbody>\n",
       "    <tr>\n",
       "      <th rowspan=\"5\" valign=\"top\">1g</th>\n",
       "      <th>1c</th>\n",
       "      <td>51</td>\n",
       "      <td>67</td>\n",
       "    </tr>\n",
       "    <tr>\n",
       "      <th>2c</th>\n",
       "      <td>81</td>\n",
       "      <td>95</td>\n",
       "    </tr>\n",
       "    <tr>\n",
       "      <th>3c</th>\n",
       "      <td>69</td>\n",
       "      <td>88</td>\n",
       "    </tr>\n",
       "    <tr>\n",
       "      <th>4c</th>\n",
       "      <td>75</td>\n",
       "      <td>99</td>\n",
       "    </tr>\n",
       "    <tr>\n",
       "      <th>5c</th>\n",
       "      <td>53</td>\n",
       "      <td>77</td>\n",
       "    </tr>\n",
       "    <tr>\n",
       "      <th rowspan=\"5\" valign=\"top\">2g</th>\n",
       "      <th>1c</th>\n",
       "      <td>75</td>\n",
       "      <td>82</td>\n",
       "    </tr>\n",
       "    <tr>\n",
       "      <th>2c</th>\n",
       "      <td>74</td>\n",
       "      <td>87</td>\n",
       "    </tr>\n",
       "    <tr>\n",
       "      <th>3c</th>\n",
       "      <td>58</td>\n",
       "      <td>81</td>\n",
       "    </tr>\n",
       "    <tr>\n",
       "      <th>4c</th>\n",
       "      <td>79</td>\n",
       "      <td>73</td>\n",
       "    </tr>\n",
       "    <tr>\n",
       "      <th>5c</th>\n",
       "      <td>76</td>\n",
       "      <td>59</td>\n",
       "    </tr>\n",
       "  </tbody>\n",
       "</table>\n",
       "</div>"
      ],
      "text/plain": [
       "        K   E\n",
       "1g 1c  51  67\n",
       "   2c  81  95\n",
       "   3c  69  88\n",
       "   4c  75  99\n",
       "   5c  53  77\n",
       "2g 1c  75  82\n",
       "   2c  74  87\n",
       "   3c  58  81\n",
       "   4c  79  73\n",
       "   5c  76  59"
      ]
     },
     "execution_count": 25,
     "metadata": {},
     "output_type": "execute_result"
    }
   ],
   "source": [
    "df[['K', 'E']]"
   ]
  },
  {
   "cell_type": "code",
   "execution_count": 46,
   "metadata": {},
   "outputs": [
    {
     "name": "stdout",
     "output_type": "stream",
     "text": [
      "        K   O\n",
      "1g 1c  51  90\n",
      "   2c  81  93\n",
      "   3c  69  82\n",
      "   4c  75  51\n",
      "   5c  53  84\n",
      "        K   O\n",
      "1g 3c  69  82\n",
      "   4c  75  51\n"
     ]
    }
   ],
   "source": [
    "print( df.loc[:'1g', ['K', 'O']] )\n",
    "print( df.loc[:'1g', ['K', 'O']][2:4:] )"
   ]
  },
  {
   "cell_type": "code",
   "execution_count": null,
   "metadata": {},
   "outputs": [],
   "source": []
  }
 ],
 "metadata": {
  "interpreter": {
   "hash": "f7a850b46675ddac11574faada8c1e2b0618d4a22331b36bf81b661d6eb414a6"
  },
  "kernelspec": {
   "display_name": "Python 3.9.6 64-bit ('facebook': venv)",
   "name": "python3"
  },
  "language_info": {
   "codemirror_mode": {
    "name": "ipython",
    "version": 3
   },
   "file_extension": ".py",
   "mimetype": "text/x-python",
   "name": "python",
   "nbconvert_exporter": "python",
   "pygments_lexer": "ipython3",
   "version": "3.9.6"
  },
  "orig_nbformat": 4
 },
 "nbformat": 4,
 "nbformat_minor": 2
}
