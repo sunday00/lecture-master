{
 "cells": [
  {
   "cell_type": "code",
   "execution_count": 6,
   "id": "861d4227",
   "metadata": {},
   "outputs": [],
   "source": [
    "import numpy as np\n",
    "\n",
    "data = [[1,2,3],[4,5,6],[7,8,9]]\n",
    "data2 = [[10, 10, 10],[20, 20, 20],[30, 30, 30]]\n",
    "\n",
    "for i in range( len(data) ):\n",
    "    for j in range( len(data[i]) ):\n",
    "        data[i][j] *= 2\n",
    "print(data)\n",
    "        \n",
    "for i in range( len(data) ):\n",
    "    for j in range( len(data[i]) ):\n",
    "        data[i][j] += data2[i][j]\n",
    "print(data)"
   ]
  },
  {
   "cell_type": "code",
   "execution_count": 5,
   "id": "d8e726c9",
   "metadata": {},
   "outputs": [
    {
     "name": "stdout",
     "output_type": "stream",
     "text": [
      "[[1 2 3]\n",
      " [4 5 6]\n",
      " [7 8 9]]\n",
      "[[10 10 10]\n",
      " [20 20 20]\n",
      " [30 30 30]]\n",
      "[[ 2  4  6]\n",
      " [ 8 10 12]\n",
      " [14 16 18]]\n",
      "[[11 12 13]\n",
      " [24 25 26]\n",
      " [37 38 39]]\n",
      "[[ 10  20  30]\n",
      " [ 80 100 120]\n",
      " [210 240 270]]\n",
      "[[140 140 140]\n",
      " [320 320 320]\n",
      " [500 500 500]]\n"
     ]
    }
   ],
   "source": [
    "import numpy as np\n",
    "\n",
    "data = [[1,2,3],[4,5,6],[7,8,9]]\n",
    "data2 = [[10, 10, 10],[20, 20, 20],[30, 30, 30]]\n",
    "\n",
    "arr = np.array(data)\n",
    "arr2 = np.array(data2)\n",
    "\n",
    "print(arr)\n",
    "print(arr2)\n",
    "\n",
    "print( arr * 2 )\n",
    "print( arr + arr2 )\n",
    "print( arr * arr2 )\n",
    "\n",
    "print( np.dot(arr, arr2) )"
   ]
  }
 ],
 "metadata": {
  "kernelspec": {
   "display_name": "Python 3 (ipykernel)",
   "language": "python",
   "name": "python3"
  },
  "language_info": {
   "codemirror_mode": {
    "name": "ipython",
    "version": 3
   },
   "file_extension": ".py",
   "mimetype": "text/x-python",
   "name": "python",
   "nbconvert_exporter": "python",
   "pygments_lexer": "ipython3",
   "version": "3.9.6"
  }
 },
 "nbformat": 4,
 "nbformat_minor": 5
}
