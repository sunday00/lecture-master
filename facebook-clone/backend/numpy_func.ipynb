{
 "cells": [
  {
   "cell_type": "code",
   "execution_count": 3,
   "source": [
    "import numpy as np\n",
    "\n",
    "a= np.array([[2, 3, 6, 8],[11, 13, 20, 45],[100, 193, 354, 555]]).reshape(3, 4)\n",
    "\n",
    "print( np.mean(a) ) #average\n",
    "\n",
    "print( np.median(a) ) # very middle value"
   ],
   "outputs": [
    {
     "output_type": "stream",
     "name": "stdout",
     "text": [
      "109.08333333333333\n",
      "16.5\n"
     ]
    }
   ],
   "metadata": {}
  },
  {
   "cell_type": "code",
   "execution_count": 17,
   "source": [
    "print( np.std(a) )\n",
    "print( np.var(a) )\n",
    "print( np.sum(a) )\n",
    "print( np.cumsum(a) )\n",
    "print( np.argmin(a) )\n",
    "print( np.argmax(a) )\n",
    "\n",
    "print( np.any(a) )\n",
    "\n",
    "print( np.nansum(a) )\n",
    "\n",
    "print( a % 2 == 0 )\n",
    "print( np.any( a % 2 == 0 ) )\n",
    "print( np.all( a % 2 == 0 ) )\n"
   ],
   "outputs": [
    {
     "output_type": "stream",
     "name": "stdout",
     "text": [
      "168.4797012171562\n",
      "28385.409722222223\n",
      "1309\n",
      "[   1    4   10   18   29   42   62  107  207  400  754 1309]\n",
      "0\n",
      "11\n",
      "True\n",
      "1309\n",
      "[[False False  True  True]\n",
      " [False False  True False]\n",
      " [ True False  True False]]\n",
      "True\n",
      "False\n"
     ]
    }
   ],
   "metadata": {}
  },
  {
   "cell_type": "code",
   "execution_count": 23,
   "source": [
    "print( np.where( a % 2 == 0 ) ) #result mean : 좌표값 배열임. 만족하는 값들의 좌표값만 모아 [x1, x2, x3, ...], [y1, y2, y3, ...], ...\n",
    "\n",
    "print( a )\n",
    "print( np.where( a % 2 == 0, a, 'changed' ) ) # 만족하지 않는 값들을 바꿔줌"
   ],
   "outputs": [
    {
     "output_type": "stream",
     "name": "stdout",
     "text": [
      "(array([0, 0, 1, 2, 2]), array([2, 3, 2, 0, 2]))\n",
      "[[  1   3   6   8]\n",
      " [ 11  13  20  45]\n",
      " [100 193 354 555]]\n",
      "[['changed' 'changed' '6' '8']\n",
      " ['changed' 'changed' '20' 'changed']\n",
      " ['100' 'changed' '354' 'changed']]\n"
     ]
    }
   ],
   "metadata": {}
  },
  {
   "cell_type": "code",
   "execution_count": 25,
   "source": [
    "b = np.arange(36).reshape(3,4,3)\n",
    "\n",
    "print(b)"
   ],
   "outputs": [
    {
     "output_type": "stream",
     "name": "stdout",
     "text": [
      "[[[ 0  1  2]\n",
      "  [ 3  4  5]\n",
      "  [ 6  7  8]\n",
      "  [ 9 10 11]]\n",
      "\n",
      " [[12 13 14]\n",
      "  [15 16 17]\n",
      "  [18 19 20]\n",
      "  [21 22 23]]\n",
      "\n",
      " [[24 25 26]\n",
      "  [27 28 29]\n",
      "  [30 31 32]\n",
      "  [33 34 35]]]\n"
     ]
    }
   ],
   "metadata": {}
  },
  {
   "cell_type": "code",
   "execution_count": 27,
   "source": [
    "print( np.sum(b) )\n",
    "print( np.sum(b, axis=0) )\n",
    "print( np.sum(b, axis=1) )\n",
    "print( np.sum(b, axis=2) )"
   ],
   "outputs": [
    {
     "output_type": "stream",
     "name": "stdout",
     "text": [
      "630\n",
      "[[36 39 42]\n",
      " [45 48 51]\n",
      " [54 57 60]\n",
      " [63 66 69]]\n",
      "[[ 18  22  26]\n",
      " [ 66  70  74]\n",
      " [114 118 122]]\n",
      "[[  3  12  21  30]\n",
      " [ 39  48  57  66]\n",
      " [ 75  84  93 102]]\n"
     ]
    }
   ],
   "metadata": {}
  },
  {
   "cell_type": "code",
   "execution_count": null,
   "source": [],
   "outputs": [],
   "metadata": {}
  }
 ],
 "metadata": {
  "orig_nbformat": 4,
  "language_info": {
   "name": "python",
   "version": "3.9.6",
   "mimetype": "text/x-python",
   "codemirror_mode": {
    "name": "ipython",
    "version": 3
   },
   "pygments_lexer": "ipython3",
   "nbconvert_exporter": "python",
   "file_extension": ".py"
  },
  "kernelspec": {
   "name": "python3",
   "display_name": "Python 3.9.6 64-bit ('facebook': venv)"
  },
  "interpreter": {
   "hash": "ba27cf3cec8a85079dff27c19b1800f08f86f8536a52d1e6e67f555dec2161e1"
  }
 },
 "nbformat": 4,
 "nbformat_minor": 2
}