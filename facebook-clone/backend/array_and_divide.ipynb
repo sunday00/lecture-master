{
 "cells": [
  {
   "cell_type": "code",
   "execution_count": 2,
   "source": [
    "import numpy as np\n",
    "\n",
    "x = [1,2,3]\n",
    "y = [4,5,6]\n",
    "\n",
    "print( x + y )"
   ],
   "outputs": [
    {
     "output_type": "stream",
     "name": "stdout",
     "text": [
      "[1, 2, 3, 4, 5, 6]\n"
     ]
    }
   ],
   "metadata": {}
  },
  {
   "cell_type": "code",
   "execution_count": 4,
   "source": [
    "print( np.array(x) + np.array(y) )"
   ],
   "outputs": [
    {
     "output_type": "stream",
     "name": "stdout",
     "text": [
      "[5 7 9]\n"
     ]
    }
   ],
   "metadata": {}
  },
  {
   "cell_type": "code",
   "execution_count": 7,
   "source": [
    "print( np.concatenate([np.array(x) , np.array(y)]) )"
   ],
   "outputs": [
    {
     "output_type": "stream",
     "name": "stdout",
     "text": [
      "[1 2 3 4 5 6]\n"
     ]
    }
   ],
   "metadata": {}
  },
  {
   "cell_type": "code",
   "execution_count": 11,
   "source": [
    "a = np.arange(10).reshape(2, 5)\n",
    "b = np.arange(10, 20).reshape(2,5)\n",
    "\n",
    "c = np.concatenate([a, b])\n",
    "\n",
    "print(c)"
   ],
   "outputs": [
    {
     "output_type": "stream",
     "name": "stdout",
     "text": [
      "[[ 0  1  2  3  4]\n",
      " [ 5  6  7  8  9]\n",
      " [10 11 12 13 14]\n",
      " [15 16 17 18 19]]\n"
     ]
    }
   ],
   "metadata": {}
  },
  {
   "cell_type": "code",
   "execution_count": 14,
   "source": [
    "c2 = np.concatenate([[a, b], [a, b]])\n",
    "print(c2)"
   ],
   "outputs": [
    {
     "output_type": "stream",
     "name": "stdout",
     "text": [
      "[[[ 0  1  2  3  4]\n",
      "  [ 5  6  7  8  9]]\n",
      "\n",
      " [[10 11 12 13 14]\n",
      "  [15 16 17 18 19]]\n",
      "\n",
      " [[ 0  1  2  3  4]\n",
      "  [ 5  6  7  8  9]]\n",
      "\n",
      " [[10 11 12 13 14]\n",
      "  [15 16 17 18 19]]]\n"
     ]
    }
   ],
   "metadata": {}
  },
  {
   "cell_type": "code",
   "execution_count": 19,
   "source": [
    "print(np.concatenate([[a, b], [a, b]], axis=1))\n",
    "print(np.concatenate([[a, b], [a, b]], axis=2))"
   ],
   "outputs": [
    {
     "output_type": "stream",
     "name": "stdout",
     "text": [
      "[[[ 0  1  2  3  4]\n",
      "  [ 5  6  7  8  9]\n",
      "  [ 0  1  2  3  4]\n",
      "  [ 5  6  7  8  9]]\n",
      "\n",
      " [[10 11 12 13 14]\n",
      "  [15 16 17 18 19]\n",
      "  [10 11 12 13 14]\n",
      "  [15 16 17 18 19]]]\n",
      "[[[ 0  1  2  3  4  0  1  2  3  4]\n",
      "  [ 5  6  7  8  9  5  6  7  8  9]]\n",
      "\n",
      " [[10 11 12 13 14 10 11 12 13 14]\n",
      "  [15 16 17 18 19 15 16 17 18 19]]]\n"
     ]
    }
   ],
   "metadata": {}
  },
  {
   "cell_type": "code",
   "execution_count": 22,
   "source": [
    "print( np.vstack([a,b]) )\n",
    "print( np.hstack([a,b]) )"
   ],
   "outputs": [
    {
     "output_type": "stream",
     "name": "stdout",
     "text": [
      "[[ 0  1  2  3  4]\n",
      " [ 5  6  7  8  9]\n",
      " [10 11 12 13 14]\n",
      " [15 16 17 18 19]]\n",
      "[[ 0  1  2  3  4 10 11 12 13 14]\n",
      " [ 5  6  7  8  9 15 16 17 18 19]]\n"
     ]
    }
   ],
   "metadata": {}
  },
  {
   "cell_type": "code",
   "execution_count": 31,
   "source": [
    "i = np.arange(10, 121, 10)\n",
    "\n",
    "print( np.split(i, 2) )\n",
    "print( np.split(i, 6) )\n",
    "# print( np.split(i, 3) )\n",
    "print( np.split(i, [3,5, 9]) )\n"
   ],
   "outputs": [
    {
     "output_type": "stream",
     "name": "stdout",
     "text": [
      "[array([10, 20, 30, 40, 50, 60]), array([ 70,  80,  90, 100, 110, 120])]\n",
      "[array([10, 20]), array([30, 40]), array([50, 60]), array([70, 80]), array([ 90, 100]), array([110, 120])]\n",
      "[array([10, 20, 30]), array([40, 50]), array([60, 70, 80, 90]), array([100, 110, 120])]\n"
     ]
    }
   ],
   "metadata": {}
  },
  {
   "cell_type": "code",
   "execution_count": 35,
   "source": [
    "j = np.arange(10, 121, 10).reshape(3, 4)\n",
    "print(j)\n",
    "\n",
    "print( np.vsplit(j, 3) )\n",
    "print( np.hsplit(j, [3, 5, 9]) )"
   ],
   "outputs": [
    {
     "output_type": "stream",
     "name": "stdout",
     "text": [
      "[[ 10  20  30  40]\n",
      " [ 50  60  70  80]\n",
      " [ 90 100 110 120]]\n",
      "[array([[10, 20, 30, 40]]), array([[50, 60, 70, 80]]), array([[ 90, 100, 110, 120]])]\n",
      "[array([[ 10,  20,  30],\n",
      "       [ 50,  60,  70],\n",
      "       [ 90, 100, 110]]), array([[ 40],\n",
      "       [ 80],\n",
      "       [120]]), array([], shape=(3, 0), dtype=int64), array([], shape=(3, 0), dtype=int64)]\n"
     ]
    }
   ],
   "metadata": {}
  },
  {
   "cell_type": "code",
   "execution_count": null,
   "source": [],
   "outputs": [],
   "metadata": {}
  }
 ],
 "metadata": {
  "orig_nbformat": 4,
  "language_info": {
   "name": "python",
   "version": "3.9.6",
   "mimetype": "text/x-python",
   "codemirror_mode": {
    "name": "ipython",
    "version": 3
   },
   "pygments_lexer": "ipython3",
   "nbconvert_exporter": "python",
   "file_extension": ".py"
  },
  "kernelspec": {
   "name": "python3",
   "display_name": "Python 3.9.6 64-bit ('facebook': venv)"
  },
  "interpreter": {
   "hash": "ba27cf3cec8a85079dff27c19b1800f08f86f8536a52d1e6e67f555dec2161e1"
  }
 },
 "nbformat": 4,
 "nbformat_minor": 2
}