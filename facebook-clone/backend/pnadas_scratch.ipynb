{
 "cells": [
  {
   "cell_type": "code",
   "execution_count": 3,
   "source": [
    "import pandas as pd\n",
    "import numpy as np\n",
    "\n",
    "pd.__version__"
   ],
   "outputs": [
    {
     "output_type": "execute_result",
     "data": {
      "text/plain": [
       "'1.3.3'"
      ]
     },
     "metadata": {},
     "execution_count": 3
    }
   ],
   "metadata": {}
  },
  {
   "cell_type": "code",
   "execution_count": 12,
   "source": [
    "data = [1, 2, 3, 4, 5, 6,]\n",
    "\n",
    "print( pd.Series(data) )\n",
    "print( pd.Series(data)[0:3] )\n",
    "print( pd.Series(data).values )\n",
    "print( pd.Series(data).index )\n",
    "print( pd.Series(data, index=['a','b','c','d','e', 'f']) )\n",
    "print( pd.Series(data, index=['a','b','c','d','e', 'f']).index )\n"
   ],
   "outputs": [
    {
     "output_type": "stream",
     "name": "stdout",
     "text": [
      "0    1\n",
      "1    2\n",
      "2    3\n",
      "3    4\n",
      "4    5\n",
      "5    6\n",
      "dtype: int64\n",
      "0    1\n",
      "1    2\n",
      "2    3\n",
      "dtype: int64\n",
      "[1 2 3 4 5 6]\n",
      "RangeIndex(start=0, stop=6, step=1)\n",
      "a    1\n",
      "b    2\n",
      "c    3\n",
      "d    4\n",
      "e    5\n",
      "f    6\n",
      "dtype: int64\n",
      "Index(['a', 'b', 'c', 'd', 'e', 'f'], dtype='object')\n"
     ]
    }
   ],
   "metadata": {}
  },
  {
   "cell_type": "code",
   "execution_count": 22,
   "source": [
    "pded_data = pd.Series(data, index=['a','b','c','d','e', 'f'])\n",
    "print( pded_data + 100 )\n",
    "print( pded_data * 100 )\n",
    "print( pded_data.a )\n",
    "\n",
    "pded_data2 = pd.Series(data, index=['apple','banana','cherry','durian','egg', 'flower'])\n",
    "print( pded_data2.apple )\n",
    "\n",
    "print( pded_data > 3 )\n",
    "print( pded_data[pded_data > 3] )"
   ],
   "outputs": [
    {
     "output_type": "stream",
     "name": "stdout",
     "text": [
      "a    101\n",
      "b    102\n",
      "c    103\n",
      "d    104\n",
      "e    105\n",
      "f    106\n",
      "dtype: int64\n",
      "a    100\n",
      "b    200\n",
      "c    300\n",
      "d    400\n",
      "e    500\n",
      "f    600\n",
      "dtype: int64\n",
      "1\n",
      "1\n",
      "a    False\n",
      "b    False\n",
      "c    False\n",
      "d     True\n",
      "e     True\n",
      "f     True\n",
      "dtype: bool\n",
      "d    4\n",
      "e    5\n",
      "f    6\n",
      "dtype: int64\n"
     ]
    }
   ],
   "metadata": {}
  },
  {
   "cell_type": "code",
   "execution_count": 26,
   "source": [
    "dic = {\n",
    "  'abo'  : 10,\n",
    "  'cado' : 22,\n",
    "  'hoho' : 45\n",
    "} \n",
    "\n",
    "print( pd.Series(dic) )\n",
    "print( pd.Series(dic, index=['abo' ,'hoho']) )"
   ],
   "outputs": [
    {
     "output_type": "stream",
     "name": "stdout",
     "text": [
      "abo     10\n",
      "cado    22\n",
      "hoho    45\n",
      "dtype: int64\n",
      "abo     10\n",
      "hoho    45\n",
      "dtype: int64\n"
     ]
    }
   ],
   "metadata": {}
  },
  {
   "cell_type": "code",
   "execution_count": null,
   "source": [],
   "outputs": [],
   "metadata": {}
  }
 ],
 "metadata": {
  "orig_nbformat": 4,
  "language_info": {
   "name": "python",
   "version": "3.9.6",
   "mimetype": "text/x-python",
   "codemirror_mode": {
    "name": "ipython",
    "version": 3
   },
   "pygments_lexer": "ipython3",
   "nbconvert_exporter": "python",
   "file_extension": ".py"
  },
  "kernelspec": {
   "name": "python3",
   "display_name": "Python 3.9.6 64-bit ('facebook': venv)"
  },
  "interpreter": {
   "hash": "ba27cf3cec8a85079dff27c19b1800f08f86f8536a52d1e6e67f555dec2161e1"
  }
 },
 "nbformat": 4,
 "nbformat_minor": 2
}