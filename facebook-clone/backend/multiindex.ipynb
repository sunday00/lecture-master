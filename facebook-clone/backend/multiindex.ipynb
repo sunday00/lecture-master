{
 "cells": [
  {
   "cell_type": "code",
   "execution_count": 4,
   "metadata": {},
   "outputs": [],
   "source": [
    "import numpy as np\n",
    "import pandas as pd\n",
    "\n",
    "data1 = {\n",
    "  'aligator'    : 10,\n",
    "  'bear'        : 83,\n",
    "  'cheeta'      : 120,\n",
    "  'dear'        : 80,\n",
    "  'elephant'    : 150,\n",
    "  'fox'         : 130,\n",
    "  'giraffe'     : 75,\n",
    "  'hippo'       : 67,\n",
    "  'impala'      : 81,\n",
    "  'jaguar'      : 119,\n",
    "  'kangaroo'    : 98,\n",
    "  'lion'        : 134,\n",
    "  'moose'       : 99,\n",
    "  'nightingale' : 22,\n",
    "  'ox'          : 106,\n",
    "  'panda'       : 88,\n",
    "  'quokka'      : 139,\n",
    "  'rabbit'      : 89,\n",
    "  'snake'       : 22,\n",
    "  'tiger'       : 150,\n",
    "  'unau'        : 111,\n",
    "  'vulture'     : 63,\n",
    "  'whale'       : 148,\n",
    "  'xeme'        : 56,\n",
    "  'yak'         : 102,\n",
    "  'zeebra'      : 107\n",
    "}\n",
    "\n",
    "data2 = {\n",
    "  'aligator'    : 113,\n",
    "  'bear'        : 222,\n",
    "  'cheeta'      : 136,\n",
    "  'dear'        : 144,\n",
    "  'elephant'    : 143,\n",
    "  'fox'         : 165,\n",
    "  'giraffe'     : 199,\n",
    "  'hippo'       : 427,\n",
    "  'impala'      : 155,\n",
    "  'jaguar'      : 124,\n",
    "  'kangaroo'    : 143,\n",
    "  'lion'        : 320,\n",
    "  'moose'       : 143,\n",
    "  'nightingale' : 169,\n",
    "  'ox'          : 170,\n",
    "  'panda'       : 128,\n",
    "  'quokka'      : 423,\n",
    "  'rabbit'      : 228,\n",
    "  'snake'       : 153,\n",
    "  'tiger'       : 303,\n",
    "  'unau'        : 183,\n",
    "  'vulture'     : 423,\n",
    "  'whale'       : 123,\n",
    "  'xeme'        : 843,\n",
    "  'yak'         : 390,\n",
    "  'zeebra'      : 173,\n",
    "}"
   ]
  },
  {
   "cell_type": "code",
   "execution_count": 5,
   "metadata": {},
   "outputs": [
    {
     "data": {
      "text/plain": [
       "dict_keys(['aligator', 'bear', 'cheeta', 'dear', 'elephant', 'fox', 'giraffe', 'hippo', 'impala', 'jaguar', 'kangaroo', 'lion', 'moose', 'nightingale', 'ox', 'panda', 'quokka', 'rabbit', 'snake', 'tiger', 'unau', 'vulture', 'whale', 'xeme', 'yak', 'zeebra'])"
      ]
     },
     "execution_count": 5,
     "metadata": {},
     "output_type": "execute_result"
    }
   ],
   "source": [
    "data.keys()"
   ]
  },
  {
   "cell_type": "code",
   "execution_count": 13,
   "metadata": {},
   "outputs": [
    {
     "data": {
      "text/plain": [
       "[('animal', 'aligator'),\n",
       " ('animal', 'bear'),\n",
       " ('animal', 'cheeta'),\n",
       " ('animal', 'dear'),\n",
       " ('animal', 'elephant'),\n",
       " ('animal', 'fox'),\n",
       " ('animal', 'giraffe'),\n",
       " ('animal', 'hippo'),\n",
       " ('animal', 'impala'),\n",
       " ('animal', 'jaguar'),\n",
       " ('animal', 'kangaroo'),\n",
       " ('animal', 'lion'),\n",
       " ('animal', 'moose'),\n",
       " ('animal', 'nightingale'),\n",
       " ('animal', 'ox'),\n",
       " ('animal', 'panda'),\n",
       " ('animal', 'quokka'),\n",
       " ('animal', 'rabbit'),\n",
       " ('animal', 'snake'),\n",
       " ('animal', 'tiger'),\n",
       " ('animal', 'unau'),\n",
       " ('animal', 'vulture'),\n",
       " ('animal', 'whale'),\n",
       " ('animal', 'xeme'),\n",
       " ('animal', 'yak'),\n",
       " ('animal', 'zeebra'),\n",
       " ('qtt', 'aligator'),\n",
       " ('qtt', 'bear'),\n",
       " ('qtt', 'cheeta'),\n",
       " ('qtt', 'dear'),\n",
       " ('qtt', 'elephant'),\n",
       " ('qtt', 'fox'),\n",
       " ('qtt', 'giraffe'),\n",
       " ('qtt', 'hippo'),\n",
       " ('qtt', 'impala'),\n",
       " ('qtt', 'jaguar'),\n",
       " ('qtt', 'kangaroo'),\n",
       " ('qtt', 'lion'),\n",
       " ('qtt', 'moose'),\n",
       " ('qtt', 'nightingale'),\n",
       " ('qtt', 'ox'),\n",
       " ('qtt', 'panda'),\n",
       " ('qtt', 'quokka'),\n",
       " ('qtt', 'rabbit'),\n",
       " ('qtt', 'snake'),\n",
       " ('qtt', 'tiger'),\n",
       " ('qtt', 'unau'),\n",
       " ('qtt', 'vulture'),\n",
       " ('qtt', 'whale'),\n",
       " ('qtt', 'xeme'),\n",
       " ('qtt', 'yak'),\n",
       " ('qtt', 'zeebra')]"
      ]
     },
     "execution_count": 13,
     "metadata": {},
     "output_type": "execute_result"
    }
   ],
   "source": [
    "animal_index_one = list(  zip(['animal' for i in range( len(data1.keys()) )], data1.keys())  )\n",
    "animal_index_two = list(  zip(['qtt' for i in range( len(data2.keys()) )], data2.keys())  )\n",
    "index = animal_index_one + animal_index_two\n",
    "index"
   ]
  },
  {
   "cell_type": "code",
   "execution_count": 26,
   "metadata": {},
   "outputs": [],
   "source": [
    "mul_index = pd.MultiIndex.from_tuples(index)"
   ]
  },
  {
   "cell_type": "code",
   "execution_count": 27,
   "metadata": {},
   "outputs": [
    {
     "data": {
      "text/plain": [
       "animal  aligator        10\n",
       "        bear            83\n",
       "        cheeta         120\n",
       "        dear            80\n",
       "        elephant       150\n",
       "        fox            130\n",
       "        giraffe         75\n",
       "        hippo           67\n",
       "        impala          81\n",
       "        jaguar         119\n",
       "        kangaroo        98\n",
       "        lion           134\n",
       "        moose           99\n",
       "        nightingale     22\n",
       "        ox             106\n",
       "        panda           88\n",
       "        quokka         139\n",
       "        rabbit          89\n",
       "        snake           22\n",
       "        tiger          150\n",
       "        unau           111\n",
       "        vulture         63\n",
       "        whale          148\n",
       "        xeme            56\n",
       "        yak            102\n",
       "        zeebra         107\n",
       "qtt     aligator       113\n",
       "        bear           222\n",
       "        cheeta         136\n",
       "        dear           144\n",
       "        elephant       143\n",
       "        fox            165\n",
       "        giraffe        199\n",
       "        hippo          427\n",
       "        impala         155\n",
       "        jaguar         124\n",
       "        kangaroo       143\n",
       "        lion           320\n",
       "        moose          143\n",
       "        nightingale    169\n",
       "        ox             170\n",
       "        panda          128\n",
       "        quokka         423\n",
       "        rabbit         228\n",
       "        snake          153\n",
       "        tiger          303\n",
       "        unau           183\n",
       "        vulture        423\n",
       "        whale          123\n",
       "        xeme           843\n",
       "        yak            390\n",
       "        zeebra         173\n",
       "dtype: int64"
      ]
     },
     "execution_count": 27,
     "metadata": {},
     "output_type": "execute_result"
    }
   ],
   "source": [
    "values = list(data1.values()) + list(data2.values())\n",
    "result = pd.Series(values, index=mul_index)\n",
    "result"
   ]
  },
  {
   "cell_type": "code",
   "execution_count": 30,
   "metadata": {},
   "outputs": [
    {
     "name": "stdout",
     "output_type": "stream",
     "text": [
      "aligator        10\n",
      "bear            83\n",
      "cheeta         120\n",
      "dear            80\n",
      "elephant       150\n",
      "fox            130\n",
      "giraffe         75\n",
      "hippo           67\n",
      "impala          81\n",
      "jaguar         119\n",
      "kangaroo        98\n",
      "lion           134\n",
      "moose           99\n",
      "nightingale     22\n",
      "ox             106\n",
      "panda           88\n",
      "quokka         139\n",
      "rabbit          89\n",
      "snake           22\n",
      "tiger          150\n",
      "unau           111\n",
      "vulture         63\n",
      "whale          148\n",
      "xeme            56\n",
      "yak            102\n",
      "zeebra         107\n",
      "dtype: int64\n",
      "aligator       113\n",
      "bear           222\n",
      "cheeta         136\n",
      "dear           144\n",
      "elephant       143\n",
      "fox            165\n",
      "giraffe        199\n",
      "hippo          427\n",
      "impala         155\n",
      "jaguar         124\n",
      "kangaroo       143\n",
      "lion           320\n",
      "moose          143\n",
      "nightingale    169\n",
      "ox             170\n",
      "panda          128\n",
      "quokka         423\n",
      "rabbit         228\n",
      "snake          153\n",
      "tiger          303\n",
      "unau           183\n",
      "vulture        423\n",
      "whale          123\n",
      "xeme           843\n",
      "yak            390\n",
      "zeebra         173\n",
      "dtype: int64\n"
     ]
    }
   ],
   "source": [
    "print( result['animal'] )\n",
    "print( result['qtt'] )\n"
   ]
  },
  {
   "cell_type": "code",
   "execution_count": 32,
   "metadata": {},
   "outputs": [
    {
     "data": {
      "text/plain": [
       "2449"
      ]
     },
     "execution_count": 32,
     "metadata": {},
     "output_type": "execute_result"
    }
   ],
   "source": [
    "result['animal'].sum()"
   ]
  },
  {
   "cell_type": "code",
   "execution_count": 34,
   "metadata": {},
   "outputs": [
    {
     "data": {
      "text/plain": [
       "6143"
      ]
     },
     "execution_count": 34,
     "metadata": {},
     "output_type": "execute_result"
    }
   ],
   "source": [
    "result['qtt'].sum()"
   ]
  },
  {
   "cell_type": "code",
   "execution_count": 39,
   "metadata": {},
   "outputs": [
    {
     "data": {
      "text/plain": [
       "308"
      ]
     },
     "execution_count": 39,
     "metadata": {},
     "output_type": "execute_result"
    }
   ],
   "source": [
    "result['animal'][0::6].sum()"
   ]
  }
 ],
 "metadata": {
  "interpreter": {
   "hash": "f7a850b46675ddac11574faada8c1e2b0618d4a22331b36bf81b661d6eb414a6"
  },
  "kernelspec": {
   "display_name": "Python 3.9.6 64-bit ('facebook': venv)",
   "name": "python3"
  },
  "language_info": {
   "codemirror_mode": {
    "name": "ipython",
    "version": 3
   },
   "file_extension": ".py",
   "mimetype": "text/x-python",
   "name": "python",
   "nbconvert_exporter": "python",
   "pygments_lexer": "ipython3",
   "version": "3.9.6"
  },
  "orig_nbformat": 4
 },
 "nbformat": 4,
 "nbformat_minor": 2
}
