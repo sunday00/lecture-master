{
 "cells": [
  {
   "cell_type": "code",
   "execution_count": 5,
   "id": "1dafdb75",
   "metadata": {},
   "outputs": [
    {
     "data": {
      "text/plain": [
       "array([1.1, 2. , 3. ])"
      ]
     },
     "execution_count": 5,
     "metadata": {},
     "output_type": "execute_result"
    }
   ],
   "source": [
    "import numpy as np\n",
    "\n",
    "data = [1.1, 2, 3]\n",
    "a=np.array(data)\n",
    "a"
   ]
  },
  {
   "cell_type": "code",
   "execution_count": 7,
   "id": "fb5d984d",
   "metadata": {},
   "outputs": [
    {
     "data": {
      "text/plain": [
       "dtype('float64')"
      ]
     },
     "execution_count": 7,
     "metadata": {},
     "output_type": "execute_result"
    }
   ],
   "source": [
    "a.dtype"
   ]
  },
  {
   "cell_type": "code",
   "execution_count": 9,
   "id": "1cd779a5",
   "metadata": {},
   "outputs": [
    {
     "data": {
      "text/plain": [
       "dtype('float32')"
      ]
     },
     "execution_count": 9,
     "metadata": {},
     "output_type": "execute_result"
    }
   ],
   "source": [
    "aa = np.array( data, dtype=np.float32 )\n",
    "aa.dtype"
   ]
  },
  {
   "cell_type": "code",
   "execution_count": 10,
   "id": "71cb65ea",
   "metadata": {},
   "outputs": [
    {
     "data": {
      "text/plain": [
       "dtype('int64')"
      ]
     },
     "execution_count": 10,
     "metadata": {},
     "output_type": "execute_result"
    }
   ],
   "source": [
    "aaa = np.array( data, dtype='i8' )\n",
    "aaa.dtype"
   ]
  },
  {
   "cell_type": "code",
   "execution_count": 12,
   "id": "1f33df83",
   "metadata": {},
   "outputs": [
    {
     "data": {
      "text/plain": [
       "dtype('int8')"
      ]
     },
     "execution_count": 12,
     "metadata": {},
     "output_type": "execute_result"
    }
   ],
   "source": [
    "aaaa = np.int8(data)\n",
    "aaaa.dtype"
   ]
  },
  {
   "cell_type": "code",
   "execution_count": 13,
   "id": "65b03966",
   "metadata": {},
   "outputs": [
    {
     "data": {
      "text/plain": [
       "array([b'1.1', b'2.0', b'3.0'], dtype='|S32')"
      ]
     },
     "execution_count": 13,
     "metadata": {},
     "output_type": "execute_result"
    }
   ],
   "source": [
    "astr = a.astype(np.string_)\n",
    "astr"
   ]
  },
  {
   "cell_type": "code",
   "execution_count": 17,
   "id": "4bdcb87d",
   "metadata": {},
   "outputs": [
    {
     "name": "stdout",
     "output_type": "stream",
     "text": [
      "0 uint8\n",
      "=====\n",
      "-1 int64\n",
      "=====\n",
      "255 uint8\n"
     ]
    }
   ],
   "source": [
    "n=np.uint8(0)\n",
    "print(n, n.dtype)\n",
    "print('=====')\n",
    "print(n-1, (n-1).dtype)\n",
    "print('=====')\n",
    "m=np.uint8(-1)\n",
    "print( m, m.dtype )"
   ]
  },
  {
   "cell_type": "code",
   "execution_count": null,
   "id": "48c6debe",
   "metadata": {},
   "outputs": [],
   "source": [
    "\"===========================\""
   ]
  },
  {
   "cell_type": "code",
   "execution_count": 22,
   "id": "b01a740e",
   "metadata": {},
   "outputs": [
    {
     "name": "stdout",
     "output_type": "stream",
     "text": [
      "0\n",
      "1\n",
      "1\n",
      "2\n"
     ]
    }
   ],
   "source": [
    "a = np.array(1)\n",
    "print(len( a.shape ))\n",
    "\n",
    "a1 = np.array([1])\n",
    "print(len( a1.shape ))\n",
    "\n",
    "a11 = np.array([1,2,3])\n",
    "print(len( a11.shape ))\n",
    "\n",
    "a2 = np.array([[1,2,3], [4,5,6]])\n",
    "print(len( a2.shape ))"
   ]
  },
  {
   "cell_type": "code",
   "execution_count": 27,
   "id": "022dc271",
   "metadata": {},
   "outputs": [
    {
     "name": "stdout",
     "output_type": "stream",
     "text": [
      "0\n",
      "1\n",
      "1\n",
      "2\n",
      "2\n",
      "3\n"
     ]
    }
   ],
   "source": [
    "a = np.array(1)\n",
    "print(a.ndim)\n",
    "\n",
    "a1 = np.array([1])\n",
    "print(a1.ndim)\n",
    "\n",
    "a11 = np.array([1,2,3])\n",
    "print(a11.ndim)\n",
    "\n",
    "a2 = np.array([[1,2,3], [4,5,6]])\n",
    "print(a2.ndim)\n",
    "\n",
    "a22 = np.array([[1,2,3], [4,5,6], [1,2,3], [4,5,6]])\n",
    "print(a22.ndim)\n",
    "\n",
    "a3 = np.array([[[1,2,3], [4, 5, 6]], [[4,5,6], [12, 13, 14]], [[1,2,3], [4,5,6]]])\n",
    "print(a3.ndim) #tensor"
   ]
  }
 ],
 "metadata": {
  "kernelspec": {
   "display_name": "Python 3 (ipykernel)",
   "language": "python",
   "name": "python3"
  },
  "language_info": {
   "codemirror_mode": {
    "name": "ipython",
    "version": 3
   },
   "file_extension": ".py",
   "mimetype": "text/x-python",
   "name": "python",
   "nbconvert_exporter": "python",
   "pygments_lexer": "ipython3",
   "version": "3.9.6"
  }
 },
 "nbformat": 4,
 "nbformat_minor": 5
}
