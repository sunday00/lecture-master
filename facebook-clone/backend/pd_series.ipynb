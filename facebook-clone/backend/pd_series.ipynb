{
 "cells": [
  {
   "cell_type": "code",
   "execution_count": 1,
   "metadata": {},
   "outputs": [],
   "source": [
    "import pandas as pd\n",
    "import numpy as np\n",
    "\n",
    "dic = {\n",
    "  'aligator': 100,\n",
    "  'buffalo': 151,\n",
    "  'crow': 174,\n",
    "  'dingo': 99,\n",
    "  'eagle': 1,\n",
    "  'fox': 156,\n",
    "  'giraffe': 132,\n",
    "  'hippo': 88,\n",
    "  'ice_bear': 76,\n",
    "  'jaguar': 165,\n",
    "}\n",
    "\n",
    "s= pd.Series(dic)"
   ]
  },
  {
   "cell_type": "code",
   "execution_count": 8,
   "metadata": {},
   "outputs": [
    {
     "name": "stdout",
     "output_type": "stream",
     "text": [
      "True\n",
      "Index(['aligator', 'buffalo', 'crow', 'dingo', 'eagle', 'fox', 'giraffe',\n",
      "       'hippo', 'ice_bear', 'jaguar'],\n",
      "      dtype='object')\n",
      "[100 151 174  99   1 156 132  88  76 165]\n",
      "ice_bear     76\n",
      "jaguar      165\n",
      "dtype: int64\n"
     ]
    }
   ],
   "source": [
    "print( 'crow' in dic )\n",
    "\n",
    "print( s.keys() )\n",
    "\n",
    "print( s.values )\n",
    "\n",
    "# print( s['ice_bear', 'jaguar'] )\n",
    "print( s[['ice_bear', 'jaguar']] )"
   ]
  },
  {
   "cell_type": "code",
   "execution_count": 17,
   "metadata": {},
   "outputs": [
    {
     "name": "stdout",
     "output_type": "stream",
     "text": [
      "3    bar\n",
      "5    baz\n",
      "9    qax\n",
      "dtype: object\n",
      "1    foo\n",
      "3    bar\n",
      "5    baz\n",
      "dtype: object\n",
      "3    bar\n",
      "5    baz\n",
      "9    qax\n",
      "dtype: object\n"
     ]
    }
   ],
   "source": [
    "l = ['foo','bar','baz','qax']\n",
    "# ld = pd.Series(l, index=['first','second','third','fourth'])\n",
    "ld = pd.Series(l, index=[1, 3, 5, 9])\n",
    "\n",
    "print( ld[1:5] )\n",
    "print( ld.loc[1:5] )\n",
    "print( ld.iloc[1:5] )\n",
    "\n"
   ]
  }
 ],
 "metadata": {
  "interpreter": {
   "hash": "f7a850b46675ddac11574faada8c1e2b0618d4a22331b36bf81b661d6eb414a6"
  },
  "kernelspec": {
   "display_name": "Python 3.9.6 64-bit ('facebook': venv)",
   "name": "python3"
  },
  "language_info": {
   "codemirror_mode": {
    "name": "ipython",
    "version": 3
   },
   "file_extension": ".py",
   "mimetype": "text/x-python",
   "name": "python",
   "nbconvert_exporter": "python",
   "pygments_lexer": "ipython3",
   "version": "3.9.6"
  },
  "orig_nbformat": 4
 },
 "nbformat": 4,
 "nbformat_minor": 2
}
