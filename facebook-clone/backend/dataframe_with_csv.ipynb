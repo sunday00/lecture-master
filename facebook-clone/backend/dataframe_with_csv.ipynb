{
 "cells": [
  {
   "cell_type": "code",
   "execution_count": 4,
   "metadata": {},
   "outputs": [
    {
     "name": "stderr",
     "output_type": "stream",
     "text": [
      "UsageError: Line magic function `%%writefile` not found.\n"
     ]
    }
   ],
   "source": [
    "import numpy as np\n",
    "import pandas as pd\n",
    "import random\n",
    "import time"
   ]
  },
  {
   "cell_type": "code",
   "execution_count": 5,
   "metadata": {},
   "outputs": [
    {
     "name": "stdout",
     "output_type": "stream",
     "text": [
      "Overwriting rawdata.csv\n"
     ]
    }
   ],
   "source": [
    "%%writefile rawdata.csv\n",
    "1, 2, 3, 4, 5, 6, 7\n",
    "careers, 1, 2, 3, 4, 5, 6\n",
    "years, 2015\t,2016, 2017, 2018, 2019, 2020\n",
    "sails, 9652247,\t9131312, 6809616,\t2948626, 9299157,\t6703802\n",
    "profit, 3571331, 3195959, 1702404, 914074, 2975730, 1944102\n",
    "employee, 35, 31, 17, 9, 29, 19"
   ]
  },
  {
   "cell_type": "code",
   "execution_count": 6,
   "metadata": {},
   "outputs": [
    {
     "data": {
      "text/plain": [
       "{' 2': {0: 1, 1: 2015, 2: 9652247, 3: 3571331, 4: 35},\n",
       " ' 3': {0: 2, 1: 2016, 2: 9131312, 3: 3195959, 4: 31},\n",
       " ' 4': {0: 3, 1: 2017, 2: 6809616, 3: 1702404, 4: 17},\n",
       " ' 5': {0: 4, 1: 2018, 2: 2948626, 3: 914074, 4: 9},\n",
       " ' 6': {0: 5, 1: 2019, 2: 9299157, 3: 2975730, 4: 29},\n",
       " ' 7': {0: 6, 1: 2020, 2: 6703802, 3: 1944102, 4: 19}}"
      ]
     },
     "execution_count": 6,
     "metadata": {},
     "output_type": "execute_result"
    }
   ],
   "source": [
    "rawCsv = pd.read_csv('rawdata.csv')\n",
    "column = rawCsv['1']\n",
    "rawCsv.drop(['1'], axis=1).to_dict()"
   ]
  }
 ],
 "metadata": {
  "interpreter": {
   "hash": "f7a850b46675ddac11574faada8c1e2b0618d4a22331b36bf81b661d6eb414a6"
  },
  "kernelspec": {
   "display_name": "Python 3.9.6 64-bit ('facebook': venv)",
   "name": "python3"
  },
  "language_info": {
   "codemirror_mode": {
    "name": "ipython",
    "version": 3
   },
   "file_extension": ".py",
   "mimetype": "text/x-python",
   "name": "python",
   "nbconvert_exporter": "python",
   "pygments_lexer": "ipython3",
   "version": "3.9.6"
  },
  "orig_nbformat": 4
 },
 "nbformat": 4,
 "nbformat_minor": 2
}
