{
 "cells": [
  {
   "cell_type": "code",
   "execution_count": 3,
   "id": "722824af",
   "metadata": {},
   "outputs": [],
   "source": [
    "import os\n",
    "os.environ['DJANGO_SETTINGS_MODULE'] = 'config.settings'\n",
    "os.environ['DJANGO_ALLOW_ASYNC_UNSAFE'] = 'true'"
   ]
  },
  {
   "cell_type": "code",
   "execution_count": 4,
   "id": "05b3977c",
   "metadata": {},
   "outputs": [],
   "source": [
    "import django\n",
    "django.setup()"
   ]
  },
  {
   "cell_type": "code",
   "execution_count": 6,
   "id": "00554fe3",
   "metadata": {},
   "outputs": [],
   "source": [
    "from jpt.models import Cafe"
   ]
  },
  {
   "cell_type": "code",
   "execution_count": 7,
   "id": "334fa342",
   "metadata": {},
   "outputs": [
    {
     "data": {
      "text/plain": [
       "<QuerySet [<Cafe: cafe1>, <Cafe: cafe2>, <Cafe: cade3>]>"
      ]
     },
     "execution_count": 7,
     "metadata": {},
     "output_type": "execute_result"
    }
   ],
   "source": [
    "Cafe.objects.all()"
   ]
  },
  {
   "cell_type": "code",
   "execution_count": 11,
   "id": "cb271d6b",
   "metadata": {},
   "outputs": [
    {
     "data": {
      "text/plain": [
       "<QuerySet [<Cafe: cafe1>, <Cafe: cafe2>]>"
      ]
     },
     "execution_count": 11,
     "metadata": {},
     "output_type": "execute_result"
    }
   ],
   "source": [
    "Cafe.objects.all()[:2]"
   ]
  },
  {
   "cell_type": "code",
   "execution_count": 13,
   "id": "3470235a",
   "metadata": {},
   "outputs": [
    {
     "name": "stdout",
     "output_type": "stream",
     "text": [
      "<generator object <genexpr> at 0x7fcb11c909e0>\n"
     ]
    }
   ],
   "source": [
    "print( i for i in Cafe.objects.all() )"
   ]
  },
  {
   "cell_type": "code",
   "execution_count": 15,
   "id": "60fd1928",
   "metadata": {},
   "outputs": [
    {
     "name": "stdout",
     "output_type": "stream",
     "text": [
      "<generator object <genexpr> at 0x7fcb11c90c80>\n"
     ]
    }
   ],
   "source": [
    "print( i.name for i in Cafe.objects.all() )"
   ]
  },
  {
   "cell_type": "code",
   "execution_count": 17,
   "id": "30be5b81",
   "metadata": {},
   "outputs": [
    {
     "data": {
      "text/plain": [
       "['cafe1', 'cafe2', 'cade3']"
      ]
     },
     "execution_count": 17,
     "metadata": {},
     "output_type": "execute_result"
    }
   ],
   "source": [
    "[i.name for i in Cafe.objects.all()]"
   ]
  },
  {
   "cell_type": "code",
   "execution_count": 18,
   "id": "bbf05d81",
   "metadata": {},
   "outputs": [
    {
     "data": {
      "text/plain": [
       "(<function __main__.<lambda>(i)>,\n",
       " <QuerySet [<Cafe: cafe1>, <Cafe: cafe2>, <Cafe: cade3>]>)"
      ]
     },
     "execution_count": 18,
     "metadata": {},
     "output_type": "execute_result"
    }
   ],
   "source": [
    "lambda i : i.name, Cafe.objects.all()"
   ]
  },
  {
   "cell_type": "code",
   "execution_count": 19,
   "id": "34cc5ecc",
   "metadata": {},
   "outputs": [
    {
     "name": "stdout",
     "output_type": "stream",
     "text": [
      "<function <lambda> at 0x7fcb11bd8040> <QuerySet [<Cafe: cafe1>, <Cafe: cafe2>, <Cafe: cade3>]>\n"
     ]
    }
   ],
   "source": [
    "print( lambda i : i.name, Cafe.objects.all() )"
   ]
  },
  {
   "cell_type": "code",
   "execution_count": 26,
   "id": "2e90fd08",
   "metadata": {},
   "outputs": [
    {
     "name": "stdout",
     "output_type": "stream",
     "text": [
      "16\n"
     ]
    }
   ],
   "source": [
    "print(  (lambda att : att ** 2)(4)  )"
   ]
  },
  {
   "cell_type": "code",
   "execution_count": 36,
   "id": "4b98dd4b",
   "metadata": {},
   "outputs": [
    {
     "data": {
      "text/plain": [
       "['cafe1', 'cafe2', 'cade3']"
      ]
     },
     "execution_count": 36,
     "metadata": {},
     "output_type": "execute_result"
    }
   ],
   "source": [
    "list( map( lambda i : i.name, Cafe.objects.all() ) )"
   ]
  },
  {
   "cell_type": "code",
   "execution_count": 44,
   "id": "44679fb4",
   "metadata": {},
   "outputs": [
    {
     "data": {
      "text/plain": [
       "<QuerySet [<Cafe: cafe2>, <Cafe: cade3>]>"
      ]
     },
     "execution_count": 44,
     "metadata": {},
     "output_type": "execute_result"
    }
   ],
   "source": [
    "Cafe.objects.all().filter(content__contains='d')"
   ]
  },
  {
   "cell_type": "code",
   "execution_count": null,
   "id": "9bea397a",
   "metadata": {},
   "outputs": [],
   "source": []
  }
 ],
 "metadata": {
  "kernelspec": {
   "display_name": "Python 3 (ipykernel)",
   "language": "python",
   "name": "python3"
  },
  "language_info": {
   "codemirror_mode": {
    "name": "ipython",
    "version": 3
   },
   "file_extension": ".py",
   "mimetype": "text/x-python",
   "name": "python",
   "nbconvert_exporter": "python",
   "pygments_lexer": "ipython3",
   "version": "3.9.6"
  }
 },
 "nbformat": 4,
 "nbformat_minor": 5
}
