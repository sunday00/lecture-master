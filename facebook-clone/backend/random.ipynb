{
 "cells": [
  {
   "cell_type": "code",
   "execution_count": 25,
   "source": [
    "import numpy as np\n",
    "import random as rd\n",
    "\n",
    "print( rd.randint(1, 10) )\n",
    "print( rd.uniform(1, 10) )\n",
    "\n",
    "print( rd.randrange(0, 100, 2) )\n",
    "\n",
    "l = [i for i in range(20)]\n",
    "rd.shuffle(l)\n",
    "print( l )\n",
    "print( rd.choice(l) )\n",
    "print( rd.sample(l, 5) )\n",
    "\n",
    "rd.seed(105)\n",
    "print( rd.randint(1, 200) )"
   ],
   "outputs": [
    {
     "output_type": "stream",
     "name": "stdout",
     "text": [
      "6\n",
      "6.226503119740731\n",
      "12\n",
      "[19, 17, 8, 7, 4, 3, 15, 12, 6, 1, 11, 14, 5, 13, 2, 18, 10, 16, 9, 0]\n",
      "12\n",
      "[3, 1, 10, 6, 17]\n",
      "152\n"
     ]
    }
   ],
   "metadata": {}
  },
  {
   "cell_type": "code",
   "execution_count": 31,
   "source": [
    "print( np.random.randint(1, 10) )\n",
    "print( np.random.randint(1, 10, size=(10)) )\n",
    "print( np.random.randint(1, 10, size=(3, 4)) )\n",
    "\n",
    "print( np.random.normal(1, 10, size=(3, 4)) )"
   ],
   "outputs": [
    {
     "output_type": "stream",
     "name": "stdout",
     "text": [
      "5\n",
      "[8 6 3 1 1 5 6 2 3 3]\n",
      "[[6 6 8 4]\n",
      " [6 6 3 7]\n",
      " [9 6 1 8]]\n",
      "[[13.74261289  7.21718678 14.83319451  8.551311  ]\n",
      " [17.02787802 -1.47100169 12.30955277 13.4943669 ]\n",
      " [ 4.08865372  5.82565858  0.95053976  2.15183606]]\n"
     ]
    }
   ],
   "metadata": {}
  }
 ],
 "metadata": {
  "orig_nbformat": 4,
  "language_info": {
   "name": "python",
   "version": "3.9.6"
  },
  "kernelspec": {
   "name": "python3",
   "display_name": "Python 3.9.6 64-bit ('facebook': venv)"
  },
  "interpreter": {
   "hash": "ba27cf3cec8a85079dff27c19b1800f08f86f8536a52d1e6e67f555dec2161e1"
  }
 },
 "nbformat": 4,
 "nbformat_minor": 2
}