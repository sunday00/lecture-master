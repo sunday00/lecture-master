{
 "cells": [
  {
   "cell_type": "code",
   "execution_count": 34,
   "metadata": {},
   "outputs": [
    {
     "data": {
      "text/plain": [
       "{0: 1, 1: 2}"
      ]
     },
     "execution_count": 34,
     "metadata": {},
     "output_type": "execute_result"
    }
   ],
   "source": [
    "a = {0:1, 1:2}\n",
    "a\n",
    "\n",
    "\n",
    "# a[0:1]"
   ]
  },
  {
   "cell_type": "code",
   "execution_count": 35,
   "metadata": {},
   "outputs": [
    {
     "data": {
      "text/plain": [
       "{0: 1}"
      ]
     },
     "execution_count": 35,
     "metadata": {},
     "output_type": "execute_result"
    }
   ],
   "source": [
    "del a[1]\n",
    "a"
   ]
  },
  {
   "cell_type": "code",
   "execution_count": 36,
   "metadata": {},
   "outputs": [
    {
     "name": "stdout",
     "output_type": "stream",
     "text": [
      "dict_keys([0, 'hello'])\n"
     ]
    },
    {
     "data": {
      "text/plain": [
       "{0: 1, 'hello': 'world', 'apple': 'expensive'}"
      ]
     },
     "execution_count": 36,
     "metadata": {},
     "output_type": "execute_result"
    }
   ],
   "source": [
    "a['hello'] = 'world'\n",
    "\n",
    "print( a.keys() )\n",
    "\n",
    "a.update({'apple': 'expensive'})\n",
    "\n",
    "a"
   ]
  },
  {
   "cell_type": "code",
   "execution_count": 37,
   "metadata": {},
   "outputs": [],
   "source": [
    "a.get(44)"
   ]
  },
  {
   "cell_type": "code",
   "execution_count": 38,
   "metadata": {},
   "outputs": [
    {
     "name": "stdout",
     "output_type": "stream",
     "text": [
      "{(1, 3): 3, (5, 7): 'banana'}\n"
     ]
    },
    {
     "data": {
      "text/plain": [
       "'banana'"
      ]
     },
     "execution_count": 38,
     "metadata": {},
     "output_type": "execute_result"
    }
   ],
   "source": [
    "b = {(1, 3): 3, (5, 7): \"banana\"}\n",
    "print( b )\n",
    "\n",
    "b[(1, 3)]\n",
    "b.get((5, 7))"
   ]
  },
  {
   "cell_type": "code",
   "execution_count": 39,
   "metadata": {},
   "outputs": [
    {
     "name": "stdout",
     "output_type": "stream",
     "text": [
      "3 3\n"
     ]
    }
   ],
   "source": [
    "a = 3\n",
    "b = a \n",
    "\n",
    "print(a, b)"
   ]
  },
  {
   "cell_type": "code",
   "execution_count": 40,
   "metadata": {},
   "outputs": [
    {
     "name": "stdout",
     "output_type": "stream",
     "text": [
      "[1, 2, 3, 4] [1, 2, 3, 4]\n"
     ]
    }
   ],
   "source": [
    "c = [1, 2, 3, 4]\n",
    "d = c\n",
    "\n",
    "print(c, d)"
   ]
  },
  {
   "cell_type": "code",
   "execution_count": 41,
   "metadata": {},
   "outputs": [
    {
     "name": "stdout",
     "output_type": "stream",
     "text": [
      "4 3\n"
     ]
    }
   ],
   "source": [
    "a = a + 1\n",
    "print(a, b)"
   ]
  },
  {
   "cell_type": "code",
   "execution_count": 42,
   "metadata": {},
   "outputs": [
    {
     "name": "stdout",
     "output_type": "stream",
     "text": [
      "[100, 2, 3, 4] [100, 2, 3, 4]\n"
     ]
    }
   ],
   "source": [
    "c[0] = 100\n",
    "\n",
    "print(c, d)"
   ]
  },
  {
   "cell_type": "code",
   "execution_count": 46,
   "metadata": {},
   "outputs": [
    {
     "name": "stdout",
     "output_type": "stream",
     "text": [
      "abcder abcder\n",
      "bbbbb abcder\n"
     ]
    }
   ],
   "source": [
    "e = 'abcder'\n",
    "f = e\n",
    "\n",
    "print( e, f )\n",
    "\n",
    "e = 'bbbbb'\n",
    "\n",
    "print( e, f )\n"
   ]
  },
  {
   "cell_type": "code",
   "execution_count": 50,
   "metadata": {},
   "outputs": [
    {
     "name": "stdout",
     "output_type": "stream",
     "text": [
      "[1, 2, 3, [4, 5]] [1, 2, 3, [4, 5]]\n",
      "[100, 2, 3, [4, 5]] [1, 2, 3, [4, 5]]\n",
      "[100, 2, 3, [100, 5]] [1, 2, 3, [100, 5]]\n"
     ]
    }
   ],
   "source": [
    "g = [1, 2, 3, [4, 5]]\n",
    "h = g.copy()\n",
    "print(g, h)\n",
    "\n",
    "g[0] = 100\n",
    "print(g, h)\n",
    "\n",
    "g[3][0] = 100\n",
    "print(g, h)"
   ]
  },
  {
   "cell_type": "code",
   "execution_count": 54,
   "metadata": {},
   "outputs": [
    {
     "name": "stdout",
     "output_type": "stream",
     "text": [
      "[1, 2, 3, [4, 5]] [1, 2, 3, [4, 5]]\n",
      "[1, 2, 3, [100, 5]] [1, 2, 3, [4, 5]]\n"
     ]
    }
   ],
   "source": [
    "import copy\n",
    "\n",
    "g = [1, 2, 3, [4, 5]]\n",
    "h = copy.deepcopy(g)\n",
    "print(g, h)\n",
    "\n",
    "g[3][0] = 100\n",
    "print(g, h)"
   ]
  },
  {
   "cell_type": "code",
   "execution_count": null,
   "metadata": {},
   "outputs": [],
   "source": []
  }
 ],
 "metadata": {
  "interpreter": {
   "hash": "fe7f7f680d3dfaeeff39c7645eab1ababeeca624708f17debbfed6bc74012f1a"
  },
  "kernelspec": {
   "display_name": "Python 3.9.7 64-bit ('jptenv': venv)",
   "name": "python3"
  },
  "language_info": {
   "codemirror_mode": {
    "name": "ipython",
    "version": 3
   },
   "file_extension": ".py",
   "mimetype": "text/x-python",
   "name": "python",
   "nbconvert_exporter": "python",
   "pygments_lexer": "ipython3",
   "version": "3.9.7"
  },
  "orig_nbformat": 4
 },
 "nbformat": 4,
 "nbformat_minor": 2
}
