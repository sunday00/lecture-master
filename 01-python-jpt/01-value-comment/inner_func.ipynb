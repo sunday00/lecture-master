{
 "cells": [
  {
   "cell_type": "code",
   "execution_count": 2,
   "metadata": {},
   "outputs": [],
   "source": [
    "l = [0, 3, 1, 6, 3, 4, 2, 11, 8]\n",
    "l2 = l.copy()"
   ]
  },
  {
   "cell_type": "code",
   "execution_count": 3,
   "metadata": {},
   "outputs": [
    {
     "data": {
      "text/plain": [
       "[0, 1, 2, 3, 3, 4, 6, 8, 11]"
      ]
     },
     "execution_count": 3,
     "metadata": {},
     "output_type": "execute_result"
    }
   ],
   "source": [
    "l.sort()\n",
    "l"
   ]
  },
  {
   "cell_type": "code",
   "execution_count": 4,
   "metadata": {},
   "outputs": [
    {
     "name": "stdout",
     "output_type": "stream",
     "text": [
      "[0, 3, 1, 6, 3, 4, 2, 11, 8]\n",
      "[0, 3, 1, 6, 3, 4, 2, 11, 8]\n",
      "[0, 1, 2, 3, 3, 4, 6, 8, 11]\n"
     ]
    }
   ],
   "source": [
    "print(l2)\n",
    "sorted( l2 )\n",
    "print( l2 ) # 정렬되지 않음\n",
    "l2 = sorted( l2 )\n",
    "print( l2 )"
   ]
  },
  {
   "cell_type": "code",
   "execution_count": 5,
   "metadata": {},
   "outputs": [
    {
     "name": "stdout",
     "output_type": "stream",
     "text": [
      "1\n",
      "1.23\n"
     ]
    }
   ],
   "source": [
    "print( round(1.2237468273) )\n",
    "print( round(1.228479382579, 2) )"
   ]
  },
  {
   "cell_type": "code",
   "execution_count": 6,
   "metadata": {},
   "outputs": [
    {
     "name": "stdout",
     "output_type": "stream",
     "text": [
      "0 0\n",
      "1 1\n",
      "2 2\n",
      "3 3\n",
      "4 3\n",
      "5 4\n",
      "6 6\n",
      "7 8\n",
      "8 11\n"
     ]
    }
   ],
   "source": [
    "for k, v in enumerate(l2):\n",
    "    print(k, v )"
   ]
  },
  {
   "cell_type": "code",
   "execution_count": 8,
   "metadata": {},
   "outputs": [
    {
     "name": "stdout",
     "output_type": "stream",
     "text": [
      "<class 'enumerate'>\n"
     ]
    }
   ],
   "source": [
    "print( type(enumerate(l2)) )"
   ]
  },
  {
   "cell_type": "code",
   "execution_count": 14,
   "metadata": {},
   "outputs": [
    {
     "name": "stdout",
     "output_type": "stream",
     "text": [
      "<class 'zip'> <zip object at 0x000002CC9353BB40>\n"
     ]
    },
    {
     "data": {
      "text/plain": [
       "[(1, 100), (2, 200), (3, 300)]"
      ]
     },
     "execution_count": 14,
     "metadata": {},
     "output_type": "execute_result"
    }
   ],
   "source": [
    "l1 = [1, 2, 3]\n",
    "l2 = [100, 200, 300]\n",
    "print( type( zip(l1, l2) ), zip(l1, l2) )\n",
    "list( zip(l1, l2) )"
   ]
  },
  {
   "cell_type": "code",
   "execution_count": 16,
   "metadata": {},
   "outputs": [
    {
     "name": "stdout",
     "output_type": "stream",
     "text": [
      "<generator object gen at 0x000002CC94563970> <class 'generator'> [[1, 2, 3]]\n"
     ]
    }
   ],
   "source": [
    "def gen(list) :\n",
    "    yield list\n",
    "    \n",
    "print( gen(l1), type( gen(l1) ), list( gen(l1) ) )"
   ]
  },
  {
   "cell_type": "code",
   "execution_count": 20,
   "metadata": {},
   "outputs": [
    {
     "name": "stdout",
     "output_type": "stream",
     "text": [
      "<map object at 0x000002CC93866940> <class 'map'> [1, 4, 9, 16, 25]\n"
     ]
    }
   ],
   "source": [
    "m = map( lambda x : x**2, [1, 2, 3, 4, 5] )\n",
    "print( m, type(m), list(m) )"
   ]
  },
  {
   "cell_type": "code",
   "execution_count": 21,
   "metadata": {},
   "outputs": [
    {
     "name": "stdout",
     "output_type": "stream",
     "text": [
      "<filter object at 0x000002CC93866E80> <class 'filter'> [2, 4]\n"
     ]
    }
   ],
   "source": [
    "fm = filter( lambda x : x % 2 == 0, [1, 2 , 3, 4, 5] )\n",
    "print( fm, type(fm), list(fm) )"
   ]
  }
 ],
 "metadata": {
  "interpreter": {
   "hash": "fe7f7f680d3dfaeeff39c7645eab1ababeeca624708f17debbfed6bc74012f1a"
  },
  "kernelspec": {
   "display_name": "Python 3.9.7 64-bit ('jptenv': venv)",
   "language": "python",
   "name": "python3"
  },
  "language_info": {
   "codemirror_mode": {
    "name": "ipython",
    "version": 3
   },
   "file_extension": ".py",
   "mimetype": "text/x-python",
   "name": "python",
   "nbconvert_exporter": "python",
   "pygments_lexer": "ipython3",
   "version": "3.9.7"
  },
  "orig_nbformat": 4
 },
 "nbformat": 4,
 "nbformat_minor": 2
}
