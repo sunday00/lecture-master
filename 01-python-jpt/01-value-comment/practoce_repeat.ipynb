{
 "cells": [
  {
   "cell_type": "code",
   "execution_count": 2,
   "metadata": {},
   "outputs": [
    {
     "data": {
      "text/plain": [
       "55"
      ]
     },
     "execution_count": 2,
     "metadata": {},
     "output_type": "execute_result"
    }
   ],
   "source": [
    "def sum_to_max (max : int) : \n",
    "    i = 0\n",
    "    result = 0\n",
    "    while i <= max :\n",
    "        result += i\n",
    "        i += 1\n",
    "    \n",
    "    return result\n",
    "\n",
    "sum_to_max(10)"
   ]
  },
  {
   "cell_type": "code",
   "execution_count": 5,
   "metadata": {},
   "outputs": [
    {
     "name": "stdout",
     "output_type": "stream",
     "text": [
      "2 is even\n",
      "4 is even\n",
      "6 is even\n",
      "8 is even\n",
      "10 is even\n",
      "12 is even\n",
      "14 is even\n",
      "16 is even\n",
      "18 is even\n",
      "20 is even\n",
      "22 is even\n",
      "24 is even\n",
      "26 is even\n",
      "28 is even\n",
      "30 is even\n",
      "32 is even\n",
      "34 is even\n",
      "36 is even\n",
      "38 is even\n",
      "40 is even\n",
      "42 is even\n",
      "44 is even\n",
      "46 is even\n",
      "48 is even\n",
      "50 is even\n",
      "52 is even\n",
      "54 is even\n",
      "56 is even\n",
      "58 is even\n",
      "60 is even\n",
      "62 is even\n",
      "64 is even\n",
      "66 is even\n",
      "68 is even\n",
      "70 is even\n",
      "72 is even\n",
      "74 is even\n",
      "76 is even\n",
      "78 is even\n",
      "80 is even\n",
      "82 is even\n",
      "84 is even\n",
      "86 is even\n",
      "88 is even\n",
      "90 is even\n",
      "92 is even\n",
      "94 is even\n",
      "96 is even\n",
      "98 is even\n",
      "100 is even\n"
     ]
    }
   ],
   "source": [
    "n = 1\n",
    "while n <= 100 :\n",
    "    if n % 2 == 0 : \n",
    "        print( f\"{n} is even\" )\n",
    "    n += 1"
   ]
  },
  {
   "cell_type": "code",
   "execution_count": 17,
   "metadata": {},
   "outputs": [
    {
     "name": "stdout",
     "output_type": "stream",
     "text": [
      "1X1=1\t1X2=2\t1X3=3\t1X4=4\t1X5=5\t1X6=6\t1X7=7\t1X8=8\t1X9=9\t\n",
      "2X1=2\t2X2=4\t2X3=6\t2X4=8\t2X5=10\t2X6=12\t2X7=14\t2X8=16\t2X9=18\t\n",
      "3X1=3\t3X2=6\t3X3=9\t3X4=12\t3X5=15\t3X6=18\t3X7=21\t3X8=24\t3X9=27\t\n",
      "4X1=4\t4X2=8\t4X3=12\t4X4=16\t4X5=20\t4X6=24\t4X7=28\t4X8=32\t4X9=36\t\n",
      "5X1=5\t5X2=10\t5X3=15\t5X4=20\t5X5=25\t5X6=30\t5X7=35\t5X8=40\t5X9=45\t\n",
      "6X1=6\t6X2=12\t6X3=18\t6X4=24\t6X5=30\t6X6=36\t6X7=42\t6X8=48\t6X9=54\t\n",
      "7X1=7\t7X2=14\t7X3=21\t7X4=28\t7X5=35\t7X6=42\t7X7=49\t7X8=56\t7X9=63\t\n",
      "8X1=8\t8X2=16\t8X3=24\t8X4=32\t8X5=40\t8X6=48\t8X7=56\t8X8=64\t8X9=72\t\n",
      "9X1=9\t9X2=18\t9X3=27\t9X4=36\t9X5=45\t9X6=54\t9X7=63\t9X8=72\t9X9=81\t\n"
     ]
    }
   ],
   "source": [
    "for i in range(1, 10):\n",
    "    for y in range(1, 10):\n",
    "        print( f\"{i}X{y}={i*y}\" , end=\"\\t\")\n",
    "    print(end=\"\\n\")"
   ]
  },
  {
   "cell_type": "code",
   "execution_count": 19,
   "metadata": {},
   "outputs": [
    {
     "name": "stdout",
     "output_type": "stream",
     "text": [
      "안\n",
      "녕\n",
      "하\n",
      "십\n",
      "니\n",
      "까\n",
      "?\n",
      " \n",
      "한\n",
      "국\n",
      "전\n",
      "기\n",
      "안\n",
      "전\n",
      "공\n",
      "사\n",
      "입\n",
      "니\n",
      "다\n",
      ".\n"
     ]
    }
   ],
   "source": [
    "s = \"안녕하십니까? 한국전기안전공사입니다.\"\n",
    "for c in s :\n",
    "    print(c)"
   ]
  },
  {
   "cell_type": "code",
   "execution_count": 32,
   "metadata": {},
   "outputs": [
    {
     "data": {
      "text/plain": [
       "[(1, 6), (2, 5), (3, 4)]"
      ]
     },
     "execution_count": 32,
     "metadata": {},
     "output_type": "execute_result"
    }
   ],
   "source": [
    "def two_dice_sum_for_n (n : int) :\n",
    "\n",
    "    result = []\n",
    "    assigned = []\n",
    "\n",
    "    for i in range(1, 7) :\n",
    "        for y in range(1, 7) :\n",
    "            if y in assigned : continue\n",
    "            if i + y == n : \n",
    "                result.append((i, y))\n",
    "                assigned.append(i)\n",
    "\n",
    "    return result\n",
    "\n",
    "two_dice_sum_for_n(7)"
   ]
  },
  {
   "cell_type": "code",
   "execution_count": 36,
   "metadata": {},
   "outputs": [
    {
     "data": {
      "text/plain": [
       "[(1, 3), (2, 2), (2, 6), (3, 5), (4, 4), (6, 6)]"
      ]
     },
     "execution_count": 36,
     "metadata": {},
     "output_type": "execute_result"
    }
   ],
   "source": [
    "def two_dice_sum_for_n_times (n : int) :\n",
    "\n",
    "    result = []\n",
    "    assigned = []\n",
    "\n",
    "    for i in range(1, 7) :\n",
    "        for y in range(1, 7) :\n",
    "            if y in assigned : continue\n",
    "            if (i + y) % n == 0 : \n",
    "                result.append((i, y))\n",
    "                assigned.append(i)\n",
    "\n",
    "    return result\n",
    "\n",
    "two_dice_sum_for_n_times(4)"
   ]
  },
  {
   "cell_type": "code",
   "execution_count": 39,
   "metadata": {},
   "outputs": [
    {
     "name": "stdout",
     "output_type": "stream",
     "text": [
      "Apr\n"
     ]
    }
   ],
   "source": [
    "w = int( input(\"1 - 12 number of month\") )\n",
    "if w == 1 : result = \"Jan\"\n",
    "elif w == 2 : result = \"Fab\"\n",
    "elif w == 3 : result = \"Mar\"\n",
    "elif w == 4 : result = \"Apr\"\n",
    "elif w == 5 : result = \"May\"\n",
    "elif w == 6 : result = \"Jun\"\n",
    "elif w == 7 : result = \"Jul\"\n",
    "elif w == 8 : result = \"Aug\"\n",
    "elif w == 9 : result = \"Sep\"\n",
    "elif w == 10 : result = \"Oct\"\n",
    "elif w == 11 : result = \"Nov\"\n",
    "elif w == 12 : result = \"Dec\"\n",
    "else : result = \"That's not a month\"\n",
    "\n",
    "print(result)"
   ]
  },
  {
   "cell_type": "code",
   "execution_count": null,
   "metadata": {},
   "outputs": [],
   "source": []
  }
 ],
 "metadata": {
  "interpreter": {
   "hash": "fe7f7f680d3dfaeeff39c7645eab1ababeeca624708f17debbfed6bc74012f1a"
  },
  "kernelspec": {
   "display_name": "Python 3.9.7 64-bit ('jptenv': venv)",
   "language": "python",
   "name": "python3"
  },
  "language_info": {
   "codemirror_mode": {
    "name": "ipython",
    "version": 3
   },
   "file_extension": ".py",
   "mimetype": "text/x-python",
   "name": "python",
   "nbconvert_exporter": "python",
   "pygments_lexer": "ipython3",
   "version": "3.9.7"
  },
  "orig_nbformat": 4
 },
 "nbformat": 4,
 "nbformat_minor": 2
}
