{
 "cells": [
  {
   "cell_type": "code",
   "execution_count": null,
   "metadata": {},
   "outputs": [
    {
     "ename": "Error",
     "evalue": "Session cannot generate requests",
     "output_type": "error",
     "traceback": [
      "Error: Session cannot generate requests",
      "at S.executeCodeCell (c:\\Users\\sunday00\\.vscode\\extensions\\ms-toolsai.jupyter-2021.10.1001414422\\out\\client\\extension.js:66:301742)",
      "at S.execute (c:\\Users\\sunday00\\.vscode\\extensions\\ms-toolsai.jupyter-2021.10.1001414422\\out\\client\\extension.js:66:300732)",
      "at S.start (c:\\Users\\sunday00\\.vscode\\extensions\\ms-toolsai.jupyter-2021.10.1001414422\\out\\client\\extension.js:66:296408)",
      "at runMicrotasks (<anonymous>)",
      "at processTicksAndRejections (internal/process/task_queues.js:93:5)",
      "at t.CellExecutionQueue.executeQueuedCells (c:\\Users\\sunday00\\.vscode\\extensions\\ms-toolsai.jupyter-2021.10.1001414422\\out\\client\\extension.js:66:312326)",
      "at t.CellExecutionQueue.start (c:\\Users\\sunday00\\.vscode\\extensions\\ms-toolsai.jupyter-2021.10.1001414422\\out\\client\\extension.js:66:311862)"
     ]
    }
   ],
   "source": [
    "def returning_any (i: int) :\n",
    "    if i == 0 :\n",
    "        return 111\n",
    "    else : \n",
    "        return \"hello\"\n",
    "\n",
    "print( returning_any(0) )\n",
    "print( returning_any(1) )"
   ]
  },
  {
   "cell_type": "code",
   "execution_count": null,
   "metadata": {},
   "outputs": [
    {
     "name": "stdout",
     "output_type": "stream",
     "text": [
      "111\n",
      "{1, 2, 3}\n",
      "hello\n"
     ]
    }
   ],
   "source": [
    "def returning_any2 (i: int) -> set :\n",
    "    if i == 0 :\n",
    "        return 111\n",
    "    elif i == 1 :\n",
    "        return {1, 2, 3}\n",
    "    else : \n",
    "        return \"hello\"\n",
    "\n",
    "print( returning_any2(0) )\n",
    "print( returning_any2(1) )\n",
    "print( returning_any2(2) )"
   ]
  },
  {
   "cell_type": "code",
   "execution_count": null,
   "metadata": {},
   "outputs": [
    {
     "name": "stdout",
     "output_type": "stream",
     "text": [
      "2\n"
     ]
    }
   ],
   "source": [
    "def over_load_test () :\n",
    "    return 1\n",
    "\n",
    "def over_load_test (i: int) :\n",
    "    return 2\n",
    "\n",
    "# print( over_load_test() )\n",
    "print( over_load_test(1) )"
   ]
  },
  {
   "cell_type": "code",
   "execution_count": null,
   "metadata": {},
   "outputs": [
    {
     "name": "stdout",
     "output_type": "stream",
     "text": [
      "1\n",
      "3\n"
     ]
    }
   ],
   "source": [
    "def optional_test( a, b = 0 ) :\n",
    "    return a + b\n",
    "\n",
    "print( optional_test(1) )\n",
    "print( optional_test(1, 2) )"
   ]
  },
  {
   "cell_type": "code",
   "execution_count": null,
   "metadata": {},
   "outputs": [
    {
     "name": "stdout",
     "output_type": "stream",
     "text": [
      "1\n",
      "2\n"
     ]
    }
   ],
   "source": [
    "def multiple_return () :\n",
    "    return 1, 2\n",
    "\n",
    "a, b = multiple_return()\n",
    "print(a)\n",
    "print(b)"
   ]
  },
  {
   "cell_type": "code",
   "execution_count": null,
   "metadata": {},
   "outputs": [
    {
     "name": "stdout",
     "output_type": "stream",
     "text": [
      "16\n"
     ]
    }
   ],
   "source": [
    "x = 16\n",
    "def get_a () :\n",
    "    y = 17\n",
    "    return x\n",
    "\n",
    "print( get_a() )\n",
    "# print( y )"
   ]
  },
  {
   "cell_type": "code",
   "execution_count": null,
   "metadata": {},
   "outputs": [
    {
     "data": {
      "text/plain": [
       "6"
      ]
     },
     "execution_count": 18,
     "metadata": {},
     "output_type": "execute_result"
    }
   ],
   "source": [
    "def recursive (i: int, max: int, result = 0) :\n",
    "    if i >= max :\n",
    "        return result + i\n",
    "    return recursive(i + 1, max, i + result)\n",
    "    \n",
    "\n",
    "recursive(1, 3)"
   ]
  },
  {
   "cell_type": "code",
   "execution_count": 2,
   "metadata": {},
   "outputs": [
    {
     "name": "stdout",
     "output_type": "stream",
     "text": [
      "10\n",
      "9\n",
      "8\n",
      "7\n",
      "6\n",
      "5\n",
      "4\n",
      "3\n",
      "2\n",
      "1\n"
     ]
    }
   ],
   "source": [
    "def recursive2 (i) :\n",
    "    if i <= 10 :\n",
    "        recursive2(i + 1)\n",
    "        print(i)\n",
    "\n",
    "recursive2(1)"
   ]
  },
  {
   "cell_type": "code",
   "execution_count": 5,
   "metadata": {},
   "outputs": [
    {
     "data": {
      "text/plain": [
       "16"
      ]
     },
     "execution_count": 5,
     "metadata": {},
     "output_type": "execute_result"
    }
   ],
   "source": [
    "def nested (a: int) :\n",
    "    b = a + 1\n",
    "\n",
    "    def inner () :\n",
    "        nonlocal b\n",
    "        return b**2\n",
    "    \n",
    "    return inner()\n",
    "\n",
    "nested(3)"
   ]
  },
  {
   "cell_type": "code",
   "execution_count": 8,
   "metadata": {},
   "outputs": [
    {
     "data": {
      "text/plain": [
       "10"
      ]
     },
     "execution_count": 8,
     "metadata": {},
     "output_type": "execute_result"
    }
   ],
   "source": [
    "a = 0\n",
    "\n",
    "def nested2 () :\n",
    "    a = 10\n",
    "\n",
    "    def inner2 () :\n",
    "        # global a\n",
    "        nonlocal a\n",
    "        return a    \n",
    "    \n",
    "    return inner2()\n",
    "\n",
    "nested2()"
   ]
  },
  {
   "cell_type": "code",
   "execution_count": 16,
   "metadata": {},
   "outputs": [
    {
     "name": "stdout",
     "output_type": "stream",
     "text": [
      "1 0\n"
     ]
    }
   ],
   "source": [
    "x = 0\n",
    "\n",
    "def same_var_name_warn (x) :\n",
    "    def inner () :\n",
    "        nonlocal x\n",
    "        x = x + 1\n",
    "        return x\n",
    "    return inner()\n",
    "\n",
    "print( same_var_name_warn(x), x )"
   ]
  }
 ],
 "metadata": {
  "interpreter": {
   "hash": "fe7f7f680d3dfaeeff39c7645eab1ababeeca624708f17debbfed6bc74012f1a"
  },
  "kernelspec": {
   "display_name": "Python 3.9.7 64-bit ('jptenv': venv)",
   "language": "python",
   "name": "python3"
  },
  "language_info": {
   "codemirror_mode": {
    "name": "ipython",
    "version": 3
   },
   "file_extension": ".py",
   "mimetype": "text/x-python",
   "name": "python",
   "nbconvert_exporter": "python",
   "pygments_lexer": "ipython3",
   "version": "3.9.7"
  },
  "orig_nbformat": 4
 },
 "nbformat": 4,
 "nbformat_minor": 2
}
