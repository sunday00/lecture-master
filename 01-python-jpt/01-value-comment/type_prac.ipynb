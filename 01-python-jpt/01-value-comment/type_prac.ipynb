{
 "cells": [
  {
   "cell_type": "code",
   "execution_count": 2,
   "metadata": {},
   "outputs": [
    {
     "data": {
      "text/plain": [
       "'My age is 36 years'"
      ]
     },
     "execution_count": 2,
     "metadata": {},
     "output_type": "execute_result"
    }
   ],
   "source": [
    "sAndI = \"My age is \" + str(36) + \" years\"\n",
    "sAndI"
   ]
  },
  {
   "cell_type": "code",
   "execution_count": 5,
   "metadata": {},
   "outputs": [
    {
     "data": {
      "text/plain": [
       "'12.58'"
      ]
     },
     "execution_count": 5,
     "metadata": {},
     "output_type": "execute_result"
    }
   ],
   "source": [
    "f = 12.5764398\n",
    "ff = format(\"%0.2f\" % (f,))\n",
    "ff"
   ]
  },
  {
   "cell_type": "code",
   "execution_count": 3,
   "metadata": {},
   "outputs": [
    {
     "name": "stdout",
     "output_type": "stream",
     "text": [
      "{1, 2, 3, 4, 5, 676, 8, 78, 765}\n"
     ]
    }
   ],
   "source": [
    "l = [1,1,1,1,1,1,2,2,2,3,3,3,3,4,4,5,765,676,78,8,]\n",
    "print( set(l) )"
   ]
  },
  {
   "cell_type": "code",
   "execution_count": 19,
   "metadata": {},
   "outputs": [
    {
     "name": "stdout",
     "output_type": "stream",
     "text": [
      "|| WELCOME TO PYTHON                                  ||\n",
      "||                                  WELCOME TO PYTHON ||\n",
      "||                 WELCOME TO PYTHON                  ||\n",
      "|| WELCOME TO PYTHON!!!!!!!!!!!!!!!!!!!!!!!!!!!!!!!!! ||\n",
      "|| ?????????????????????????????????WELCOME TO PYTHON ||\n",
      "|| ################WELCOME TO PYTHON################# ||\n"
     ]
    }
   ],
   "source": [
    "s = \"WELCOME TO PYTHON\"\n",
    "print( \"|| {0:<50} ||\".format(s) )\n",
    "print( \"|| {0:>50} ||\".format(s) )\n",
    "print( \"|| {0:^50} ||\".format(s) )\n",
    "\n",
    "print( \"|| {0:!<50} ||\".format(s) )\n",
    "print( \"|| {0:?>50} ||\".format(s) )\n",
    "print( \"|| {0:#^50} ||\".format(s) )"
   ]
  },
  {
   "cell_type": "code",
   "execution_count": 24,
   "metadata": {},
   "outputs": [
    {
     "name": "stdout",
     "output_type": "stream",
     "text": [
      "Today is Nov 5th  friday \n"
     ]
    }
   ],
   "source": [
    "w = 'friday'\n",
    "m = 'Nov'\n",
    "d = 5\n",
    "\n",
    "print( f'Today is {m} {d}th {w:^8}' )"
   ]
  },
  {
   "cell_type": "code",
   "execution_count": 32,
   "metadata": {},
   "outputs": [
    {
     "data": {
      "text/plain": [
       "True"
      ]
     },
     "execution_count": 32,
     "metadata": {},
     "output_type": "execute_result"
    }
   ],
   "source": [
    "s = \"Lorem ipsum dolor sit amet consectetur adipisicing elit. Facere ex eligendi dolores cumque eum iure. Possimus quo laboriosam accusamus voluptatum veniam perspiciatis voluptatem reiciendis animi est nam? Facilis, consequatur quo?\"\n",
    "# s.search('L')\n",
    "s.index('a')\n",
    "s.find('a')\n",
    "'a' in s"
   ]
  },
  {
   "cell_type": "code",
   "execution_count": 34,
   "metadata": {},
   "outputs": [
    {
     "name": "stdout",
     "output_type": "stream",
     "text": [
      "else\n"
     ]
    }
   ],
   "source": [
    "if 0 :\n",
    "    print('0')\n",
    "else :\n",
    "    print('else')"
   ]
  },
  {
   "cell_type": "code",
   "execution_count": 37,
   "metadata": {},
   "outputs": [
    {
     "data": {
      "text/plain": [
       "-1"
      ]
     },
     "execution_count": 37,
     "metadata": {},
     "output_type": "execute_result"
    }
   ],
   "source": [
    "s.find('bfiurewabveuijran')"
   ]
  },
  {
   "cell_type": "code",
   "execution_count": 40,
   "metadata": {},
   "outputs": [
    {
     "data": {
      "text/plain": [
       "'k!j!f!g!n!e!r!k!g!n!v!e!r!l!k'"
      ]
     },
     "execution_count": 40,
     "metadata": {},
     "output_type": "execute_result"
    }
   ],
   "source": [
    "\"!\".join(\"kjfgnerkgnverlk\")"
   ]
  },
  {
   "cell_type": "code",
   "execution_count": 42,
   "metadata": {},
   "outputs": [
    {
     "name": "stdout",
     "output_type": "stream",
     "text": [
      "[100, 2, 3, 4] [100, 2, 3, 4]\n"
     ]
    }
   ],
   "source": [
    "l1 = [1, 2, 3, 4]\n",
    "l2 = l1\n",
    "l1[0] = 100\n",
    "\n",
    "print(l1, l2)"
   ]
  },
  {
   "cell_type": "code",
   "execution_count": 45,
   "metadata": {},
   "outputs": [
    {
     "name": "stdout",
     "output_type": "stream",
     "text": [
      "[100, 2, 3, 4] [1, 2, 3, 4]\n"
     ]
    }
   ],
   "source": [
    "l1 = [1, 2, 3, 4]\n",
    "l2 = list(l1)\n",
    "l1[0] = 100\n",
    "\n",
    "print(l1, l2)"
   ]
  },
  {
   "cell_type": "code",
   "execution_count": 63,
   "metadata": {},
   "outputs": [
    {
     "name": "stdout",
     "output_type": "stream",
     "text": [
      "<class 'dict_items'>\n",
      "('apple', 'red') <class 'tuple'>\n",
      "('banana', 'yellow') <class 'tuple'>\n",
      "('cherry', 'dark-red') <class 'tuple'>\n"
     ]
    }
   ],
   "source": [
    "d1 = {\"apple\": \"red\", \"banana\": \"yellow\", \"cherry\": \"dark-red\"}\n",
    "\n",
    "print( type( d1.items() ) )\n",
    "\n",
    "for i in d1.items():\n",
    "    print( i, type( i ) )\n",
    "\n",
    "# list( d1.items() )"
   ]
  },
  {
   "cell_type": "code",
   "execution_count": 69,
   "metadata": {},
   "outputs": [
    {
     "name": "stdout",
     "output_type": "stream",
     "text": [
      "True\n"
     ]
    }
   ],
   "source": [
    "d2 = dict( {(1,4) : True} )\n",
    "print( d2[(1, 4)] )"
   ]
  }
 ],
 "metadata": {
  "interpreter": {
   "hash": "fe7f7f680d3dfaeeff39c7645eab1ababeeca624708f17debbfed6bc74012f1a"
  },
  "kernelspec": {
   "display_name": "Python 3.9.7 64-bit ('jptenv': venv)",
   "name": "python3"
  },
  "language_info": {
   "codemirror_mode": {
    "name": "ipython",
    "version": 3
   },
   "file_extension": ".py",
   "mimetype": "text/x-python",
   "name": "python",
   "nbconvert_exporter": "python",
   "pygments_lexer": "ipython3",
   "version": "3.9.7"
  },
  "orig_nbformat": 4
 },
 "nbformat": 4,
 "nbformat_minor": 2
}
