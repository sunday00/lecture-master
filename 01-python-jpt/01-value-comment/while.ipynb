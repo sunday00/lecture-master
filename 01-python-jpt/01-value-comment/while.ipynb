{
 "cells": [
  {
   "cell_type": "code",
   "execution_count": 1,
   "metadata": {},
   "outputs": [
    {
     "name": "stdout",
     "output_type": "stream",
     "text": [
      "1 1\n",
      "2 2\n",
      "3 3\n",
      "4 4\n",
      "i is not break\n",
      "6 5\n",
      "7 6\n",
      "8 7\n",
      "9 8\n",
      "10 9\n",
      "11 10\n",
      "i is not break\n",
      "i is not break\n",
      "i is not break\n",
      "i is not break\n",
      "i is not break\n",
      "i is not break\n",
      "i is not break\n",
      "i is not break\n",
      "i is not break\n",
      "i is not break\n",
      "i is not break\n",
      "i is not break\n",
      "i is not break\n",
      "i is not break\n",
      "i is not break\n",
      "i is not break\n",
      "i is not break\n",
      "i is not break\n",
      "i is not break\n",
      "i is not break\n",
      "i is not break\n",
      "i is not break\n",
      "i is not break\n",
      "i is not break\n",
      "i is not break\n",
      "i is not break\n",
      "i is not break\n",
      "i is not break\n",
      "i is not break\n",
      "i is not break\n",
      "i is not break\n",
      "i is not break\n",
      "i is not break\n",
      "i is not break\n",
      "i is not break\n",
      "i is not break\n",
      "i is not break\n",
      "i is not break\n",
      "i is not break\n"
     ]
    }
   ],
   "source": [
    "i = 0;\n",
    "j = 0\n",
    "\n",
    "while( i < 50 ) :\n",
    "    while ( j < 10 ) :\n",
    "        i = i + 1\n",
    "        j = j + 1\n",
    "        print(i, j)\n",
    "        if j == 4 :\n",
    "            break\n",
    "    print(\"i is not break\")\n",
    "    i = i + 1\n",
    "\n",
    "    if i == 4 : \n",
    "        break"
   ]
  },
  {
   "cell_type": "code",
   "execution_count": 7,
   "metadata": {},
   "outputs": [
    {
     "name": "stdout",
     "output_type": "stream",
     "text": [
      "j = 1\n",
      "j = 2\n",
      "j = 3\n"
     ]
    }
   ],
   "source": [
    "def cond_10_stop() :\n",
    "    i = 0\n",
    "    j = 0\n",
    "\n",
    "    while(i < 10) : \n",
    "        while(j < 5):\n",
    "            i = i + 1\n",
    "            j = j + 1\n",
    "            print(\"j = {}\".format(j))\n",
    "            if( j == 3 ):\n",
    "                return \n",
    "        print(\"i = {}\".format(i))\n",
    "\n",
    "cond_10_stop()"
   ]
  },
  {
   "cell_type": "code",
   "execution_count": 10,
   "metadata": {},
   "outputs": [
    {
     "name": "stdout",
     "output_type": "stream",
     "text": [
      "only odd : 1\n",
      "only odd : 3\n",
      "only odd : 5\n",
      "only odd : 7\n",
      "only odd : 9\n"
     ]
    }
   ],
   "source": [
    "i = 0\n",
    "while i < 10 :\n",
    "    i += 1\n",
    "    if i % 2 == 0 :\n",
    "        continue\n",
    "    print( \"only odd : {}\".format(i) )"
   ]
  },
  {
   "cell_type": "code",
   "execution_count": null,
   "metadata": {},
   "outputs": [],
   "source": []
  }
 ],
 "metadata": {
  "interpreter": {
   "hash": "fe7f7f680d3dfaeeff39c7645eab1ababeeca624708f17debbfed6bc74012f1a"
  },
  "kernelspec": {
   "display_name": "Python 3.9.7 64-bit ('jptenv': venv)",
   "language": "python",
   "name": "python3"
  },
  "language_info": {
   "codemirror_mode": {
    "name": "ipython",
    "version": 3
   },
   "file_extension": ".py",
   "mimetype": "text/x-python",
   "name": "python",
   "nbconvert_exporter": "python",
   "pygments_lexer": "ipython3",
   "version": "3.9.7"
  },
  "orig_nbformat": 4
 },
 "nbformat": 4,
 "nbformat_minor": 2
}
