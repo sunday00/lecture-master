{
 "cells": [
  {
   "cell_type": "code",
   "execution_count": 2,
   "metadata": {},
   "outputs": [],
   "source": [
    "# for i=0; i<10; i++ :\n",
    "#     print(i)"
   ]
  },
  {
   "cell_type": "code",
   "execution_count": 4,
   "metadata": {},
   "outputs": [
    {
     "name": "stdout",
     "output_type": "stream",
     "text": [
      "0\n",
      "1\n",
      "2\n",
      "3\n",
      "4\n",
      "5\n",
      "6\n",
      "7\n",
      "8\n",
      "9\n"
     ]
    }
   ],
   "source": [
    "for i in range(0, 10):\n",
    "    print(i)"
   ]
  },
  {
   "cell_type": "code",
   "execution_count": 15,
   "metadata": {},
   "outputs": [
    {
     "name": "stdout",
     "output_type": "stream",
     "text": [
      "==list=\n",
      "1\n",
      "2\n",
      "3\n",
      "4\n",
      "======\n",
      "==set==\n",
      "1\n",
      "2\n",
      "3\n",
      "4\n",
      "======\n",
      "=tuple=\n",
      "1\n",
      "2\n",
      "3\n",
      "4\n",
      "=======\n",
      "=dict=\n",
      "a 1\n",
      "b 2\n",
      "c 3\n",
      "d 4\n",
      "=======\n"
     ]
    }
   ],
   "source": [
    "l = [1, 2, 3, 4]\n",
    "s = {1, 2, 3, 4}\n",
    "t = (1, 2, 3, 4)\n",
    "d = {'a':1, 'b': 2, 'c': 3, 'd': 4}\n",
    "\n",
    "print(\"==list=\")    \n",
    "for i in l :\n",
    "    print(i)\n",
    "print(\"======\")\n",
    "\n",
    "print(\"==set==\")    \n",
    "for i in s :\n",
    "    print(i)\n",
    "print(\"======\")\n",
    "\n",
    "print(\"=tuple=\")    \n",
    "for i in t :\n",
    "    print(i)\n",
    "print(\"=======\")\n",
    "\n",
    "print(\"=dict=\")    \n",
    "for i in d :\n",
    "    print(i, d[i])\n",
    "print(\"=======\")    "
   ]
  },
  {
   "cell_type": "code",
   "execution_count": 22,
   "metadata": {},
   "outputs": [
    {
     "name": "stdout",
     "output_type": "stream",
     "text": [
      "a 1\n",
      "b 2\n",
      "c 3\n",
      "d 4\n"
     ]
    }
   ],
   "source": [
    "for i, j in d.items():\n",
    "    print(i, j)"
   ]
  },
  {
   "cell_type": "code",
   "execution_count": 35,
   "metadata": {},
   "outputs": [
    {
     "name": "stdout",
     "output_type": "stream",
     "text": [
      "[0, 1, 2, 3, 4, 5, 6, 7, 8, 9]\n",
      "(0, 1, 2, 3, 4, 5, 6, 7, 8, 9)\n",
      "{0, 1, 2, 3, 4, 5, 6, 7, 8, 9}\n",
      "{0: 'd', 1: 'd', 2: 'd', 3: 'd', 4: 'd'}\n"
     ]
    }
   ],
   "source": [
    "a = [i for i in range(0, 10)]\n",
    "print(a)\n",
    "\n",
    "b = tuple(i for i in range(0, 10))\n",
    "print(b)\n",
    "\n",
    "b = set(i for i in range(0, 10))\n",
    "print(b)\n",
    "\n",
    "ks = ['a','b','c','d']\n",
    "b = {i:j for i in range(0, 5) for j in ks}\n",
    "print(b)"
   ]
  }
 ],
 "metadata": {
  "interpreter": {
   "hash": "fe7f7f680d3dfaeeff39c7645eab1ababeeca624708f17debbfed6bc74012f1a"
  },
  "kernelspec": {
   "display_name": "Python 3.9.7 64-bit ('jptenv': venv)",
   "language": "python",
   "name": "python3"
  },
  "language_info": {
   "codemirror_mode": {
    "name": "ipython",
    "version": 3
   },
   "file_extension": ".py",
   "mimetype": "text/x-python",
   "name": "python",
   "nbconvert_exporter": "python",
   "pygments_lexer": "ipython3",
   "version": "3.9.7"
  },
  "orig_nbformat": 4
 },
 "nbformat": 4,
 "nbformat_minor": 2
}
