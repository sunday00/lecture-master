{
 "cells": [
  {
   "cell_type": "code",
   "execution_count": 2,
   "metadata": {},
   "outputs": [
    {
     "data": {
      "text/plain": [
       "'happy happy happy '"
      ]
     },
     "execution_count": 2,
     "metadata": {},
     "output_type": "execute_result"
    }
   ],
   "source": [
    "\"happy \" * 3"
   ]
  },
  {
   "cell_type": "code",
   "execution_count": 8,
   "metadata": {},
   "outputs": [
    {
     "name": "stdout",
     "output_type": "stream",
     "text": [
      " is shor nohtyp deen uoy ,trohs si efiL\n"
     ]
    }
   ],
   "source": [
    "s = \"Life is short, you need python\"\n",
    "\n",
    "print( s[4:12] , s[::-1])"
   ]
  },
  {
   "cell_type": "code",
   "execution_count": 14,
   "metadata": {},
   "outputs": [
    {
     "data": {
      "text/plain": [
       "'Kife is short, you need python'"
      ]
     },
     "execution_count": 14,
     "metadata": {},
     "output_type": "execute_result"
    }
   ],
   "source": [
    "# s[0] = \"k\" //impossible\n",
    "\"K\" + s[1::]"
   ]
  },
  {
   "cell_type": "code",
   "execution_count": 25,
   "metadata": {},
   "outputs": [
    {
     "name": "stdout",
     "output_type": "stream",
     "text": [
      "30\n"
     ]
    },
    {
     "data": {
      "text/plain": [
       "'ife is short, you need python'"
      ]
     },
     "execution_count": 25,
     "metadata": {},
     "output_type": "execute_result"
    }
   ],
   "source": [
    "print( len(s) )\n",
    "s.startswith('Life')\n",
    "s.endswith('python')\n",
    "s.find('you')\n",
    "s.count('s')\n",
    "s.strip()\n",
    "s.strip('L')"
   ]
  },
  {
   "cell_type": "code",
   "execution_count": 31,
   "metadata": {},
   "outputs": [
    {
     "data": {
      "text/plain": [
       "'I get up at 7 usually.'"
      ]
     },
     "execution_count": 31,
     "metadata": {},
     "output_type": "execute_result"
    }
   ],
   "source": [
    "f = \"now is {}. Time to {}\"\n",
    "f.format(7, 'eat')\n",
    "f.format(8, 'go')\n",
    "\n",
    "time = 12\n",
    "f\"hello {time}\"\n",
    "\n",
    "\"I get up at {time} usually.\".format(time = 7)"
   ]
  },
  {
   "cell_type": "code",
   "execution_count": null,
   "metadata": {},
   "outputs": [],
   "source": []
  }
 ],
 "metadata": {
  "interpreter": {
   "hash": "fe7f7f680d3dfaeeff39c7645eab1ababeeca624708f17debbfed6bc74012f1a"
  },
  "kernelspec": {
   "display_name": "Python 3.9.7 64-bit ('jptenv': venv)",
   "name": "python3"
  },
  "language_info": {
   "codemirror_mode": {
    "name": "ipython",
    "version": 3
   },
   "file_extension": ".py",
   "mimetype": "text/x-python",
   "name": "python",
   "nbconvert_exporter": "python",
   "pygments_lexer": "ipython3",
   "version": "3.9.7"
  },
  "orig_nbformat": 4
 },
 "nbformat": 4,
 "nbformat_minor": 2
}
