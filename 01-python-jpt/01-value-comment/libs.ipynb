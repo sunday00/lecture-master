{
 "cells": [
  {
   "cell_type": "code",
   "execution_count": 16,
   "metadata": {},
   "outputs": [
    {
     "data": {
      "text/plain": [
       "'2021-11-16 10:31:24'"
      ]
     },
     "execution_count": 16,
     "metadata": {},
     "output_type": "execute_result"
    }
   ],
   "source": [
    "import time\n",
    "\n",
    "time.strftime(\"%Y-%m-%d %H:%M:%S\", time.gmtime())"
   ]
  },
  {
   "cell_type": "code",
   "execution_count": 18,
   "metadata": {},
   "outputs": [
    {
     "data": {
      "text/plain": [
       "'2021-11-16 19:31:52'"
      ]
     },
     "execution_count": 18,
     "metadata": {},
     "output_type": "execute_result"
    }
   ],
   "source": [
    "time.strftime(\"%Y-%m-%d %H:%M:%S\", time.localtime(time.time()))"
   ]
  },
  {
   "cell_type": "code",
   "execution_count": 20,
   "metadata": {},
   "outputs": [
    {
     "data": {
      "text/plain": [
       "['c:\\\\Bitnami\\\\wampstack-7.1.21-0\\\\apache2\\\\htdocs\\\\workplace\\\\python\\\\facam-30days\\\\01-python-jpt',\n",
       " 'c:\\\\Users\\\\sunday00\\\\.vscode\\\\extensions\\\\ms-toolsai.jupyter-2021.10.1101450599\\\\pythonFiles',\n",
       " 'c:\\\\Users\\\\sunday00\\\\.vscode\\\\extensions\\\\ms-toolsai.jupyter-2021.10.1101450599\\\\pythonFiles\\\\lib\\\\python',\n",
       " 'C:\\\\Program Files\\\\WindowsApps\\\\PythonSoftwareFoundation.Python.3.9_3.9.2032.0_x64__qbz5n2kfra8p0\\\\python39.zip',\n",
       " 'C:\\\\Program Files\\\\WindowsApps\\\\PythonSoftwareFoundation.Python.3.9_3.9.2032.0_x64__qbz5n2kfra8p0\\\\DLLs',\n",
       " 'C:\\\\Program Files\\\\WindowsApps\\\\PythonSoftwareFoundation.Python.3.9_3.9.2032.0_x64__qbz5n2kfra8p0\\\\lib',\n",
       " 'C:\\\\Users\\\\sunday00\\\\AppData\\\\Local\\\\Microsoft\\\\WindowsApps\\\\PythonSoftwareFoundation.Python.3.9_qbz5n2kfra8p0',\n",
       " 'c:\\\\Bitnami\\\\wampstack-7.1.21-0\\\\apache2\\\\htdocs\\\\workplace\\\\python\\\\facam-30days\\\\01-python-jpt\\\\jptenv',\n",
       " '',\n",
       " 'c:\\\\Bitnami\\\\wampstack-7.1.21-0\\\\apache2\\\\htdocs\\\\workplace\\\\python\\\\facam-30days\\\\01-python-jpt\\\\jptenv\\\\lib\\\\site-packages',\n",
       " 'c:\\\\Bitnami\\\\wampstack-7.1.21-0\\\\apache2\\\\htdocs\\\\workplace\\\\python\\\\facam-30days\\\\01-python-jpt\\\\jptenv\\\\lib\\\\site-packages\\\\win32',\n",
       " 'c:\\\\Bitnami\\\\wampstack-7.1.21-0\\\\apache2\\\\htdocs\\\\workplace\\\\python\\\\facam-30days\\\\01-python-jpt\\\\jptenv\\\\lib\\\\site-packages\\\\win32\\\\lib',\n",
       " 'c:\\\\Bitnami\\\\wampstack-7.1.21-0\\\\apache2\\\\htdocs\\\\workplace\\\\python\\\\facam-30days\\\\01-python-jpt\\\\jptenv\\\\lib\\\\site-packages\\\\Pythonwin',\n",
       " 'c:\\\\Bitnami\\\\wampstack-7.1.21-0\\\\apache2\\\\htdocs\\\\workplace\\\\python\\\\facam-30days\\\\01-python-jpt\\\\jptenv\\\\lib\\\\site-packages\\\\IPython\\\\extensions',\n",
       " 'C:\\\\Users\\\\sunday00\\\\.ipython']"
      ]
     },
     "execution_count": 20,
     "metadata": {},
     "output_type": "execute_result"
    }
   ],
   "source": [
    "import sys\n",
    "\n",
    "sys.path"
   ]
  },
  {
   "cell_type": "code",
   "execution_count": 22,
   "metadata": {},
   "outputs": [
    {
     "data": {
      "text/plain": [
       "namespace(name='cpython',\n",
       "          cache_tag='cpython-39',\n",
       "          version=sys.version_info(major=3, minor=9, micro=7, releaselevel='final', serial=0),\n",
       "          hexversion=50923504)"
      ]
     },
     "execution_count": 22,
     "metadata": {},
     "output_type": "execute_result"
    }
   ],
   "source": [
    "sys.implementation"
   ]
  },
  {
   "cell_type": "code",
   "execution_count": 24,
   "metadata": {},
   "outputs": [
    {
     "data": {
      "text/plain": [
       "'c:\\\\Bitnami\\\\wampstack-7.1.21-0\\\\apache2\\\\htdocs\\\\workplace\\\\python\\\\facam-30days\\\\01-python-jpt'"
      ]
     },
     "execution_count": 24,
     "metadata": {},
     "output_type": "execute_result"
    }
   ],
   "source": [
    "import os\n",
    "\n",
    "os.getcwd()"
   ]
  },
  {
   "cell_type": "code",
   "execution_count": null,
   "metadata": {},
   "outputs": [],
   "source": []
  }
 ],
 "metadata": {
  "interpreter": {
   "hash": "fe7f7f680d3dfaeeff39c7645eab1ababeeca624708f17debbfed6bc74012f1a"
  },
  "kernelspec": {
   "display_name": "Python 3.9.7 64-bit ('jptenv': venv)",
   "language": "python",
   "name": "python3"
  },
  "language_info": {
   "codemirror_mode": {
    "name": "ipython",
    "version": 3
   },
   "file_extension": ".py",
   "mimetype": "text/x-python",
   "name": "python",
   "nbconvert_exporter": "python",
   "pygments_lexer": "ipython3",
   "version": "3.9.7"
  },
  "orig_nbformat": 4
 },
 "nbformat": 4,
 "nbformat_minor": 2
}
