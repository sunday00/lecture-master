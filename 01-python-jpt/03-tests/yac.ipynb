{
 "cells": [
  {
   "cell_type": "code",
   "execution_count": 41,
   "metadata": {},
   "outputs": [
    {
     "data": {
      "text/plain": [
       "{1, 3, 5, 9, 15, 27, 45, 135}"
      ]
     },
     "execution_count": 41,
     "metadata": {},
     "output_type": "execute_result"
    }
   ],
   "source": [
    "n = 135\n",
    "\n",
    "s = set([1,n])\n",
    "\n",
    "for i in range(2, int(n**(1/2)+1)) :\n",
    "    if n%i == 0 :\n",
    "        s.add(i)\n",
    "        s.add(int(n/i))\n",
    "s\n",
    "    "
   ]
  },
  {
   "cell_type": "code",
   "execution_count": 66,
   "metadata": {},
   "outputs": [
    {
     "name": "stdout",
     "output_type": "stream",
     "text": [
      "0b1000 0b1000\n"
     ]
    }
   ],
   "source": [
    "n = 8\n",
    "m = n\n",
    "bs = \"\"\n",
    "\n",
    "while n > 0 :\n",
    "    if n % 2 == 0 :\n",
    "        bs = \"0\" + bs\n",
    "    else :\n",
    "        bs = \"1\" + bs\n",
    "    n = int(n / 2)\n",
    "\n",
    "print( bin(int(bs, 2)) , bin(m) )"
   ]
  },
  {
   "cell_type": "code",
   "execution_count": 69,
   "metadata": {},
   "outputs": [
    {
     "name": "stdout",
     "output_type": "stream",
     "text": [
      "180 180\n"
     ]
    }
   ],
   "source": [
    "print( (5*3)*12, 5*(3*12) )"
   ]
  },
  {
   "cell_type": "code",
   "execution_count": 72,
   "metadata": {},
   "outputs": [
    {
     "data": {
      "text/plain": [
       "36"
      ]
     },
     "execution_count": 72,
     "metadata": {},
     "output_type": "execute_result"
    }
   ],
   "source": [
    "a=504\n",
    "b=396\n",
    "\n",
    "if a < b :\n",
    "    tmp = a\n",
    "    a = b\n",
    "    b = tmp\n",
    "\n",
    "r = 0\n",
    "while b != 0:\n",
    "    r = a % b\n",
    "    # 이걸 정의에서는 (a - b) = r * x 라고 해놓고\n",
    "    # 프로그램에서는 a % b 로 하는 이유는 \n",
    "    # 어차피 한번 더 도나 두번 더 도는 것일뿐 결과는 \n",
    "    # a - b - b - b ... 그리고 ... 나머지 이므로\n",
    "    a = b\n",
    "    b = r\n",
    "\n",
    "a\n"
   ]
  }
 ],
 "metadata": {
  "interpreter": {
   "hash": "fe7f7f680d3dfaeeff39c7645eab1ababeeca624708f17debbfed6bc74012f1a"
  },
  "kernelspec": {
   "display_name": "Python 3.9.9 64-bit ('jptenv': venv)",
   "language": "python",
   "name": "python3"
  },
  "language_info": {
   "codemirror_mode": {
    "name": "ipython",
    "version": 3
   },
   "file_extension": ".py",
   "mimetype": "text/x-python",
   "name": "python",
   "nbconvert_exporter": "python",
   "pygments_lexer": "ipython3",
   "version": "3.9.9"
  },
  "orig_nbformat": 4
 },
 "nbformat": 4,
 "nbformat_minor": 2
}
