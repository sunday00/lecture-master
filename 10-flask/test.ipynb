{
 "cells": [
  {
   "cell_type": "code",
   "execution_count": 4,
   "metadata": {},
   "outputs": [],
   "source": [
    "import requests\n",
    "\n",
    "result = requests.get(\"https://map.naver.com/v5/api/geocode?request=coordsToaddr&version=1.0&sourcecrs=epsg:4326&output=json&orders=addr,roadaddr&coords=126.9998395,37.2745161\")"
   ]
  },
  {
   "cell_type": "code",
   "execution_count": 7,
   "metadata": {},
   "outputs": [
    {
     "data": {
      "text/plain": [
       "{'status': {'code': 0, 'name': 'ok', 'message': 'done'},\n",
       " 'results': [{'name': 'addr',\n",
       "   'code': {'id': '4111513700', 'type': 'L', 'mappingId': '02115137'},\n",
       "   'region': {'area0': {'name': 'kr',\n",
       "     'coords': {'center': {'crs': '', 'x': 0.0, 'y': 0.0}}},\n",
       "    'area1': {'name': '경기도',\n",
       "     'coords': {'center': {'crs': 'EPSG:4326',\n",
       "       'x': 127.550802,\n",
       "       'y': 37.4363177}},\n",
       "     'alias': '경기'},\n",
       "    'area2': {'name': '수원시 팔달구',\n",
       "     'coords': {'center': {'crs': 'EPSG:4326',\n",
       "       'x': 127.0200976,\n",
       "       'y': 37.2825695}}},\n",
       "    'area3': {'name': '고등동',\n",
       "     'coords': {'center': {'crs': 'EPSG:4326',\n",
       "       'x': 127.0011269,\n",
       "       'y': 37.273466}}},\n",
       "    'area4': {'name': '',\n",
       "     'coords': {'center': {'crs': '', 'x': 0.0, 'y': 0.0}}}},\n",
       "   'land': {'type': '1',\n",
       "    'number1': '199',\n",
       "    'number2': '56',\n",
       "    'addition0': {'type': '', 'value': ''},\n",
       "    'addition1': {'type': '', 'value': ''},\n",
       "    'addition2': {'type': '', 'value': ''},\n",
       "    'addition3': {'type': '', 'value': ''},\n",
       "    'addition4': {'type': '', 'value': ''},\n",
       "    'coords': {'center': {'crs': '', 'x': 0.0, 'y': 0.0}}}}]}"
      ]
     },
     "execution_count": 7,
     "metadata": {},
     "output_type": "execute_result"
    }
   ],
   "source": [
    "result.json()"
   ]
  },
  {
   "cell_type": "code",
   "execution_count": null,
   "metadata": {},
   "outputs": [],
   "source": []
  }
 ],
 "metadata": {
  "interpreter": {
   "hash": "00180a5bdd247a65e78bcee3d10252a9d25e509a0fd046d7030ebd97626dc827"
  },
  "kernelspec": {
   "display_name": "Python 3.9.9 64-bit ('venv': venv)",
   "language": "python",
   "name": "python3"
  },
  "language_info": {
   "codemirror_mode": {
    "name": "ipython",
    "version": 3
   },
   "file_extension": ".py",
   "mimetype": "text/x-python",
   "name": "python",
   "nbconvert_exporter": "python",
   "pygments_lexer": "ipython3",
   "version": "3.9.9"
  },
  "orig_nbformat": 4
 },
 "nbformat": 4,
 "nbformat_minor": 2
}
