{
 "cells": [
  {
   "cell_type": "code",
   "execution_count": 2,
   "metadata": {},
   "outputs": [],
   "source": [
    "import numpy as np\n",
    "\n",
    "a = np.array([1,2,3,4])"
   ]
  },
  {
   "cell_type": "code",
   "execution_count": 3,
   "metadata": {},
   "outputs": [
    {
     "data": {
      "text/plain": [
       "dtype('int32')"
      ]
     },
     "execution_count": 3,
     "metadata": {},
     "output_type": "execute_result"
    }
   ],
   "source": [
    "a.dtype"
   ]
  },
  {
   "cell_type": "code",
   "execution_count": 4,
   "metadata": {},
   "outputs": [
    {
     "data": {
      "text/plain": [
       "dtype('<U1')"
      ]
     },
     "execution_count": 4,
     "metadata": {},
     "output_type": "execute_result"
    }
   ],
   "source": [
    "b = np.array(['a', 'b'])\n",
    "b.dtype"
   ]
  },
  {
   "cell_type": "code",
   "execution_count": 5,
   "metadata": {},
   "outputs": [
    {
     "data": {
      "text/plain": [
       "dtype('<U1')"
      ]
     },
     "execution_count": 5,
     "metadata": {},
     "output_type": "execute_result"
    }
   ],
   "source": [
    "b = np.array(['a', 'b'], dtype=str)\n",
    "b.dtype"
   ]
  },
  {
   "cell_type": "code",
   "execution_count": 6,
   "metadata": {},
   "outputs": [
    {
     "data": {
      "text/plain": [
       "dtype('<U1')"
      ]
     },
     "execution_count": 6,
     "metadata": {},
     "output_type": "execute_result"
    }
   ],
   "source": [
    "a = np.array([1, 2, 3], dtype=np.uint64)\n",
    "b.dtype"
   ]
  },
  {
   "cell_type": "code",
   "execution_count": 7,
   "metadata": {},
   "outputs": [
    {
     "data": {
      "text/plain": [
       "(3, 4)"
      ]
     },
     "execution_count": 7,
     "metadata": {},
     "output_type": "execute_result"
    }
   ],
   "source": [
    "d = np.array([[1, 2, 3, 4],[5, 6, 7, 8],[9, 10, 11, 12]])\n",
    "d.shape"
   ]
  },
  {
   "cell_type": "code",
   "execution_count": 8,
   "metadata": {},
   "outputs": [
    {
     "data": {
      "text/plain": [
       "(3, 2, 2)"
      ]
     },
     "execution_count": 8,
     "metadata": {},
     "output_type": "execute_result"
    }
   ],
   "source": [
    "d = np.array([[[1, 2], [3, 4]],[[5, 6], [7, 8]],[[9, 10], [11, 12]]])\n",
    "d.shape"
   ]
  },
  {
   "cell_type": "code",
   "execution_count": 9,
   "metadata": {},
   "outputs": [
    {
     "data": {
      "text/plain": [
       "array([[1., 0., 0., 0., 0.],\n",
       "       [0., 1., 0., 0., 0.],\n",
       "       [0., 0., 1., 0., 0.]])"
      ]
     },
     "execution_count": 9,
     "metadata": {},
     "output_type": "execute_result"
    }
   ],
   "source": [
    "np.eye(3, 5)"
   ]
  },
  {
   "cell_type": "code",
   "execution_count": 10,
   "metadata": {},
   "outputs": [
    {
     "data": {
      "text/plain": [
       "array([[1, 0, 0],\n",
       "       [0, 2, 0],\n",
       "       [0, 0, 3]])"
      ]
     },
     "execution_count": 10,
     "metadata": {},
     "output_type": "execute_result"
    }
   ],
   "source": [
    "np.diag([1, 2, 3])"
   ]
  },
  {
   "cell_type": "code",
   "execution_count": 11,
   "metadata": {},
   "outputs": [
    {
     "data": {
      "text/plain": [
       "array([9.69465040e-312, 1.77863633e-322, 0.00000000e+000, 0.00000000e+000,\n",
       "       0.00000000e+000, 3.96641256e-061, 1.74248616e-076, 5.20940757e-090,\n",
       "       4.65939627e-033, 5.56268866e-309])"
      ]
     },
     "execution_count": 11,
     "metadata": {},
     "output_type": "execute_result"
    }
   ],
   "source": [
    "np.empty(10)"
   ]
  },
  {
   "cell_type": "code",
   "execution_count": 12,
   "metadata": {},
   "outputs": [
    {
     "data": {
      "text/plain": [
       "array([0., 0., 0.], dtype=float32)"
      ]
     },
     "execution_count": 12,
     "metadata": {},
     "output_type": "execute_result"
    }
   ],
   "source": [
    "np.zeros(3, dtype=np.float32)"
   ]
  },
  {
   "cell_type": "code",
   "execution_count": 13,
   "metadata": {},
   "outputs": [
    {
     "data": {
      "text/plain": [
       "array([[0., 0., 0., 0.],\n",
       "       [0., 0., 0., 0.],\n",
       "       [0., 0., 0., 0.]])"
      ]
     },
     "execution_count": 13,
     "metadata": {},
     "output_type": "execute_result"
    }
   ],
   "source": [
    "np.zeros((3, 4))"
   ]
  },
  {
   "cell_type": "code",
   "execution_count": 14,
   "metadata": {},
   "outputs": [
    {
     "data": {
      "text/plain": [
       "array([[[0., 0., 0., 0., 0., 0., 0.],\n",
       "        [0., 0., 0., 0., 0., 0., 0.],\n",
       "        [0., 0., 0., 0., 0., 0., 0.]],\n",
       "\n",
       "       [[0., 0., 0., 0., 0., 0., 0.],\n",
       "        [0., 0., 0., 0., 0., 0., 0.],\n",
       "        [0., 0., 0., 0., 0., 0., 0.]]])"
      ]
     },
     "execution_count": 14,
     "metadata": {},
     "output_type": "execute_result"
    }
   ],
   "source": [
    "np.zeros((2, 3, 7))"
   ]
  },
  {
   "cell_type": "code",
   "execution_count": 15,
   "metadata": {},
   "outputs": [
    {
     "data": {
      "text/plain": [
       "array([[[9.69464537e-312, 7.41098469e-322, 0.00000000e+000,\n",
       "         0.00000000e+000],\n",
       "        [0.00000000e+000, 1.16096346e-028, 9.82205649e+252,\n",
       "         1.11789342e+253],\n",
       "        [8.20690325e+136, 1.47852184e+137, 2.87521844e+161,\n",
       "         5.59943827e-067]],\n",
       "\n",
       "       [[2.30292586e+161, 5.58132872e+252, 8.85450255e+228,\n",
       "         1.24366207e+137],\n",
       "        [1.76971783e+137, 3.57668621e-062, 9.79726238e-076,\n",
       "         2.83712587e+137],\n",
       "        [3.69745589e+093, 8.27171410e+136, 2.46631867e+179,\n",
       "         3.46111160e-309]]])"
      ]
     },
     "execution_count": 15,
     "metadata": {},
     "output_type": "execute_result"
    }
   ],
   "source": [
    "a = np.empty((2, 3, 4))\n",
    "a"
   ]
  },
  {
   "cell_type": "code",
   "execution_count": 16,
   "metadata": {},
   "outputs": [
    {
     "data": {
      "text/plain": [
       "array([[[9.69464537e-312, 7.41098469e-322, 0.00000000e+000,\n",
       "         0.00000000e+000],\n",
       "        [7.00000000e+000, 7.00000000e+000, 7.00000000e+000,\n",
       "         7.00000000e+000],\n",
       "        [8.20690325e+136, 1.47852184e+137, 2.87521844e+161,\n",
       "         5.59943827e-067]],\n",
       "\n",
       "       [[2.30292586e+161, 5.58132872e+252, 8.85450255e+228,\n",
       "         1.24366207e+137],\n",
       "        [1.76971783e+137, 3.57668621e-062, 9.79726238e-076,\n",
       "         2.83712587e+137],\n",
       "        [3.69745589e+093, 8.27171410e+136, 2.46631867e+179,\n",
       "         3.46111160e-309]]])"
      ]
     },
     "execution_count": 16,
     "metadata": {},
     "output_type": "execute_result"
    }
   ],
   "source": [
    "a[0][1] = 7\n",
    "a"
   ]
  },
  {
   "cell_type": "code",
   "execution_count": 17,
   "metadata": {},
   "outputs": [
    {
     "data": {
      "text/plain": [
       "array([[[9.69464537e-312, 7.41098469e-322, 0.00000000e+000,\n",
       "         0.00000000e+000],\n",
       "        [7.00000000e+000, 7.00000000e+000, 7.00000000e+000,\n",
       "         7.00000000e+000],\n",
       "        [8.20690325e+136, 1.47852184e+137, 2.87521844e+161,\n",
       "         5.59943827e-067]],\n",
       "\n",
       "       [[2.30292586e+161, 5.58132872e+252, 8.85450255e+228,\n",
       "         1.24366207e+137],\n",
       "        [1.76971783e+137, 3.57668621e-062, 9.79726238e-076,\n",
       "         2.83712587e+137],\n",
       "        [3.69745589e+093, 8.27171410e+136, 2.46631867e+179,\n",
       "         3.46111160e-309]]])"
      ]
     },
     "execution_count": 17,
     "metadata": {},
     "output_type": "execute_result"
    }
   ],
   "source": [
    "a[0] + 1\n",
    "a"
   ]
  },
  {
   "cell_type": "code",
   "execution_count": 18,
   "metadata": {},
   "outputs": [
    {
     "data": {
      "text/plain": [
       "array([[1.00000000e+000, 1.00000000e+000, 1.00000000e+000,\n",
       "        1.00000000e+000],\n",
       "       [8.00000000e+000, 8.00000000e+000, 8.00000000e+000,\n",
       "        8.00000000e+000],\n",
       "       [8.20690325e+136, 1.47852184e+137, 2.87521844e+161,\n",
       "        1.00000000e+000]])"
      ]
     },
     "execution_count": 18,
     "metadata": {},
     "output_type": "execute_result"
    }
   ],
   "source": [
    "a = a[0] + 1\n",
    "a"
   ]
  },
  {
   "cell_type": "code",
   "execution_count": 19,
   "metadata": {},
   "outputs": [
    {
     "data": {
      "text/plain": [
       "array([[1. , 1. , 1. , 1. ],\n",
       "       [8. , 8. , 8. , 8. ],\n",
       "       [4.3, 4.3, 4.3, 4.3]])"
      ]
     },
     "execution_count": 19,
     "metadata": {},
     "output_type": "execute_result"
    }
   ],
   "source": [
    "a[2] = 4.3\n",
    "a"
   ]
  },
  {
   "cell_type": "code",
   "execution_count": 20,
   "metadata": {},
   "outputs": [
    {
     "data": {
      "text/plain": [
       "array([[1. , 1. , 1. , 1. ],\n",
       "       [4.3, 4.3, 4.3, 4.3]])"
      ]
     },
     "execution_count": 20,
     "metadata": {},
     "output_type": "execute_result"
    }
   ],
   "source": [
    "a[[0,2]]"
   ]
  },
  {
   "cell_type": "code",
   "execution_count": 21,
   "metadata": {},
   "outputs": [
    {
     "data": {
      "text/plain": [
       "array([[ 1,  2,  3,  4],\n",
       "       [ 5,  6,  7,  8],\n",
       "       [ 9, 10, 11, 12]])"
      ]
     },
     "execution_count": 21,
     "metadata": {},
     "output_type": "execute_result"
    }
   ],
   "source": [
    "a = np.array( [list(range(1, 5)), list(range(5, 9)), list(range(9, 13))] )\n",
    "a"
   ]
  },
  {
   "cell_type": "code",
   "execution_count": 22,
   "metadata": {},
   "outputs": [
    {
     "data": {
      "text/plain": [
       "array([1, 7])"
      ]
     },
     "execution_count": 22,
     "metadata": {},
     "output_type": "execute_result"
    }
   ],
   "source": [
    "a[[0,1],[0,2]]"
   ]
  },
  {
   "cell_type": "code",
   "execution_count": 23,
   "metadata": {},
   "outputs": [
    {
     "name": "stdout",
     "output_type": "stream",
     "text": [
      "[2]\n",
      "[1, 2, 3, 4] [3]\n"
     ]
    }
   ],
   "source": [
    "a = [1, 2, 3, 4]\n",
    "b = a[1:2]\n",
    "print(b)\n",
    "b[0] = 3\n",
    "print(a, b)"
   ]
  },
  {
   "cell_type": "code",
   "execution_count": 24,
   "metadata": {},
   "outputs": [
    {
     "name": "stdout",
     "output_type": "stream",
     "text": [
      "[2]\n",
      "[1 3 3 4] [3]\n",
      "[2]\n",
      "[1 2 3 4] [3]\n"
     ]
    }
   ],
   "source": [
    "a = np.array([1, 2, 3, 4])\n",
    "b = a[1:2]\n",
    "print(b)\n",
    "b[0] = 3\n",
    "print(a, b)\n",
    "\n",
    "a = np.array([1, 2, 3, 4])\n",
    "b = a.copy()[1:2]\n",
    "print(b)\n",
    "b[0] = 3\n",
    "print(a, b)"
   ]
  },
  {
   "cell_type": "code",
   "execution_count": 26,
   "metadata": {},
   "outputs": [
    {
     "data": {
      "text/plain": [
       "array([ True, False, False, False])"
      ]
     },
     "execution_count": 26,
     "metadata": {},
     "output_type": "execute_result"
    }
   ],
   "source": [
    "a == 1"
   ]
  },
  {
   "cell_type": "code",
   "execution_count": 34,
   "metadata": {},
   "outputs": [
    {
     "data": {
      "text/plain": [
       "array([False, False, False, False])"
      ]
     },
     "execution_count": 34,
     "metadata": {},
     "output_type": "execute_result"
    }
   ],
   "source": [
    "(a == 1) & (a == 2)"
   ]
  },
  {
   "cell_type": "code",
   "execution_count": 36,
   "metadata": {},
   "outputs": [
    {
     "data": {
      "text/plain": [
       "array([1, 3])"
      ]
     },
     "execution_count": 36,
     "metadata": {},
     "output_type": "execute_result"
    }
   ],
   "source": [
    " a[np.array([True, False, True, False])]"
   ]
  },
  {
   "cell_type": "code",
   "execution_count": 40,
   "metadata": {},
   "outputs": [
    {
     "data": {
      "text/plain": [
       "array([1, 3])"
      ]
     },
     "execution_count": 40,
     "metadata": {},
     "output_type": "execute_result"
    }
   ],
   "source": [
    "a[(a == 1) | (a == 3)]"
   ]
  },
  {
   "cell_type": "code",
   "execution_count": 45,
   "metadata": {},
   "outputs": [
    {
     "name": "stdout",
     "output_type": "stream",
     "text": [
      "[[1. 0. 0.]\n",
      " [0. 1. 0.]\n",
      " [0. 0. 1.]]\n"
     ]
    },
    {
     "data": {
      "text/plain": [
       "array([1., 0., 0., 0., 1., 0., 0., 0., 1.])"
      ]
     },
     "execution_count": 45,
     "metadata": {},
     "output_type": "execute_result"
    }
   ],
   "source": [
    "a = np.eye(3)\n",
    "print(a)\n",
    "\n",
    "a.flatten()"
   ]
  },
  {
   "cell_type": "code",
   "execution_count": 49,
   "metadata": {},
   "outputs": [
    {
     "name": "stdout",
     "output_type": "stream",
     "text": [
      "[[1 1 1]\n",
      " [2 2 2]\n",
      " [3 3 3]]\n"
     ]
    },
    {
     "data": {
      "text/plain": [
       "array([[1, 2, 3],\n",
       "       [1, 2, 3],\n",
       "       [1, 2, 3]])"
      ]
     },
     "execution_count": 49,
     "metadata": {},
     "output_type": "execute_result"
    }
   ],
   "source": [
    "a = np.array([[1, 1, 1],[2, 2, 2],[3, 3, 3]])\n",
    "print(a)\n",
    "a.transpose()"
   ]
  },
  {
   "cell_type": "code",
   "execution_count": 57,
   "metadata": {},
   "outputs": [
    {
     "name": "stdout",
     "output_type": "stream",
     "text": [
      "[[1 1 1 1]\n",
      " [2 2 2 2]\n",
      " [3 3 3 3]]\n",
      "[[1 1 1 1]\n",
      " [2 2 2 2]\n",
      " [3 3 3 3]]\n"
     ]
    },
    {
     "data": {
      "text/plain": [
       "array([[1, 1, 1, 1, 2, 2],\n",
       "       [2, 2, 3, 3, 3, 3]])"
      ]
     },
     "execution_count": 57,
     "metadata": {},
     "output_type": "execute_result"
    }
   ],
   "source": [
    "a = np.array([[1, 1, 1, 1],[2, 2, 2, 2],[3, 3, 3, 3]])\n",
    "print(a)\n",
    "a.reshape((4, 3))\n",
    "print(a)\n",
    "a.reshape((2, 6))"
   ]
  },
  {
   "cell_type": "code",
   "execution_count": 60,
   "metadata": {},
   "outputs": [
    {
     "data": {
      "text/plain": [
       "0.08806549812476439"
      ]
     },
     "execution_count": 60,
     "metadata": {},
     "output_type": "execute_result"
    }
   ],
   "source": [
    "np.random.random()"
   ]
  },
  {
   "cell_type": "code",
   "execution_count": 62,
   "metadata": {},
   "outputs": [
    {
     "data": {
      "text/plain": [
       "array([0.15225752, 0.98751834, 0.56845303, 0.99890573, 0.56308068])"
      ]
     },
     "execution_count": 62,
     "metadata": {},
     "output_type": "execute_result"
    }
   ],
   "source": [
    "np.random.random(5)"
   ]
  },
  {
   "cell_type": "code",
   "execution_count": 64,
   "metadata": {},
   "outputs": [
    {
     "data": {
      "text/plain": [
       "array([[0.59209649, 0.67935372, 0.75704493],\n",
       "       [0.03254451, 0.91408716, 0.17069278],\n",
       "       [0.62818246, 0.72481616, 0.32159578],\n",
       "       [0.29172994, 0.91150632, 0.18556166],\n",
       "       [0.70764849, 0.2047676 , 0.17789164]])"
      ]
     },
     "execution_count": 64,
     "metadata": {},
     "output_type": "execute_result"
    }
   ],
   "source": [
    "np.random.random((5, 3))"
   ]
  },
  {
   "cell_type": "code",
   "execution_count": 73,
   "metadata": {},
   "outputs": [
    {
     "name": "stdout",
     "output_type": "stream",
     "text": [
      "[[0.67408584 0.70292961 0.60690936]\n",
      " [0.60510631 0.72645163 0.03209241]]\n",
      "[[0.83430526 0.79112819 0.19670516]\n",
      " [0.12530975 0.28316193 0.58878791]]\n",
      "[[0.67408584 0.70292961 0.60690936 0.83430526 0.79112819 0.19670516]\n",
      " [0.60510631 0.72645163 0.03209241 0.12530975 0.28316193 0.58878791]] [[0.67408584 0.70292961 0.60690936]\n",
      " [0.60510631 0.72645163 0.03209241]\n",
      " [0.83430526 0.79112819 0.19670516]\n",
      " [0.12530975 0.28316193 0.58878791]]\n"
     ]
    }
   ],
   "source": [
    "a = np.random.random((2, 3))\n",
    "print(a)\n",
    "\n",
    "b = np.random.random((2, 3))\n",
    "print(b)\n",
    "\n",
    "print( np.hstack([a, b]), np.vstack([a, b]) )"
   ]
  },
  {
   "cell_type": "code",
   "execution_count": 79,
   "metadata": {},
   "outputs": [
    {
     "data": {
      "text/plain": [
       "720"
      ]
     },
     "execution_count": 79,
     "metadata": {},
     "output_type": "execute_result"
    }
   ],
   "source": [
    "c = np.array([[1, 2, 3],[4, 5, 6]])\n",
    "np.prod(c)"
   ]
  },
  {
   "cell_type": "code",
   "execution_count": 80,
   "metadata": {},
   "outputs": [
    {
     "data": {
      "text/plain": [
       "array([ 4, 10, 18])"
      ]
     },
     "execution_count": 80,
     "metadata": {},
     "output_type": "execute_result"
    }
   ],
   "source": [
    "np.prod(c, axis=0)"
   ]
  },
  {
   "cell_type": "code",
   "execution_count": 82,
   "metadata": {},
   "outputs": [
    {
     "data": {
      "text/plain": [
       "array([  6, 120])"
      ]
     },
     "execution_count": 82,
     "metadata": {},
     "output_type": "execute_result"
    }
   ],
   "source": [
    "np.prod(c, axis=1)"
   ]
  },
  {
   "cell_type": "code",
   "execution_count": 85,
   "metadata": {},
   "outputs": [
    {
     "data": {
      "text/plain": [
       "array([[ 6,  8],\n",
       "       [10, 12]])"
      ]
     },
     "execution_count": 85,
     "metadata": {},
     "output_type": "execute_result"
    }
   ],
   "source": [
    "a = np.array([1, 2, 3, 4]).reshape(2, 2)\n",
    "b = np.array([5, 6, 7, 8]).reshape(2, 2)\n",
    "\n",
    "a + b"
   ]
  },
  {
   "cell_type": "code",
   "execution_count": 87,
   "metadata": {},
   "outputs": [
    {
     "data": {
      "text/plain": [
       "array([[19, 22],\n",
       "       [43, 50]])"
      ]
     },
     "execution_count": 87,
     "metadata": {},
     "output_type": "execute_result"
    }
   ],
   "source": [
    "np.matmul(a, b)"
   ]
  },
  {
   "cell_type": "code",
   "execution_count": 102,
   "metadata": {},
   "outputs": [
    {
     "name": "stdout",
     "output_type": "stream",
     "text": [
      "[43 46 31 10 75 13 47 84 23 38 80 74 28 18 63 44 38 68 75 73 99 36 25 82\n",
      " 84 90 12 34 66 37  1 66 87 74 63 59 22 64  2 45 29 23 34 48 19 19 74 95\n",
      " 76 74 51  2  9  1 20 82 11 53 17 40 19 55 89 49 98  3 53 38 32 20 96 58\n",
      " 66 37 23 70 18 18 52 79  9 25 34 24 79 87 83 15  0 65 63 39 51 24  2 83\n",
      "  4 23 56 44]\n",
      "0.0\n",
      "22.75\n",
      "44.0\n",
      "70.75\n",
      "99.0\n",
      "[ 0  1  1  2  2  2  3  4  9  9 10 11 12 13 15 17 18 18 18 19 19 19 20 20\n",
      " 22 23 23 23 23 24 24 25 25 28 29 31 32 34 34 34 36 37 37 38 38 38 39 40\n",
      " 43 44 44 45 46 47 48 49 51 51 52 53 53 55 56 58 59 63 63 63 64 65 66 66\n",
      " 66 68 70 73 74 74 74 74 75 75 76 79 79 80 82 82 83 83 84 84 87 87 89 90\n",
      " 95 96 98 99]\n"
     ]
    }
   ],
   "source": [
    "a = np.random.random(100)\n",
    "a = a * 100\n",
    "a = np.array(a, dtype=int)\n",
    "print(a)\n",
    "\n",
    "print(np.percentile(a, 0))\n",
    "print(np.percentile(a, 25))\n",
    "print(np.percentile(a, 50))\n",
    "print(np.percentile(a, 75))\n",
    "print(np.percentile(a, 100))\n",
    "\n",
    "a.sort()\n",
    "\n",
    "print(a)"
   ]
  }
 ],
 "metadata": {
  "interpreter": {
   "hash": "00180a5bdd247a65e78bcee3d10252a9d25e509a0fd046d7030ebd97626dc827"
  },
  "kernelspec": {
   "display_name": "Python 3.9.9 64-bit ('venv': venv)",
   "language": "python",
   "name": "python3"
  },
  "language_info": {
   "codemirror_mode": {
    "name": "ipython",
    "version": 3
   },
   "file_extension": ".py",
   "mimetype": "text/x-python",
   "name": "python",
   "nbconvert_exporter": "python",
   "pygments_lexer": "ipython3",
   "version": "3.9.9"
  },
  "orig_nbformat": 4
 },
 "nbformat": 4,
 "nbformat_minor": 2
}
