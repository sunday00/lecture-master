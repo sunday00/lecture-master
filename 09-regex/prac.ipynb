{
 "cells": [
  {
   "cell_type": "code",
   "execution_count": 6,
   "metadata": {},
   "outputs": [
    {
     "name": "stdout",
     "output_type": "stream",
     "text": [
      "None\n",
      "(0, 3)\n",
      "(0, 3)\n"
     ]
    }
   ],
   "source": [
    "import re\n",
    "\n",
    "pattern = re.compile('a.b')\n",
    "print( re.match(pattern, 'a\\nb') )\n",
    "print( re.match(pattern, 'a!b').span() )\n",
    "print( pattern.match('a\\tb').span() )"
   ]
  },
  {
   "cell_type": "code",
   "execution_count": 23,
   "metadata": {},
   "outputs": [
    {
     "name": "stdout",
     "output_type": "stream",
     "text": [
      "(0, 3)\n",
      "(0, 3)\n",
      "None\n",
      "(0, 3)\n",
      "(0, 3)\n"
     ]
    }
   ],
   "source": [
    "pattern = re.compile('a.b', re.DOTALL)\n",
    "print( re.match(pattern, 'a\\nb').span() )\n",
    "print( getattr(re.match(pattern, 'a\\nb'), 'span', lambda : None)() )\n",
    "print( getattr(re.match(pattern, 'b\\na'), 'span', lambda : None)() ) # optional chaing method\n",
    "print( re.match(pattern, 'a!b').span() )\n",
    "print( pattern.match('a\\tb').span() )"
   ]
  },
  {
   "cell_type": "code",
   "execution_count": 28,
   "metadata": {},
   "outputs": [
    {
     "name": "stdout",
     "output_type": "stream",
     "text": [
      "['d...']\n",
      "['d.....']\n",
      "[]\n",
      "['g...']\n"
     ]
    }
   ],
   "source": [
    "pattern = re.compile('.[.]{3,}')\n",
    "\n",
    "print(pattern.findall('hello world...'))\n",
    "print(pattern.findall('hello world.....'))\n",
    "print(pattern.findall('hello world !!'))\n",
    "print(pattern.findall('hello world !! And Now~! comming...'))\n"
   ]
  },
  {
   "cell_type": "code",
   "execution_count": 47,
   "metadata": {},
   "outputs": [
    {
     "name": "stdout",
     "output_type": "stream",
     "text": [
      "a\n",
      "b\n",
      "['a', 'b']\n"
     ]
    }
   ],
   "source": [
    "pattern = re.compile('a.b', re.DOTALL)\n",
    "print( re.match(pattern, 'a\\nb').group() )\n",
    "print( re.match(pattern, 'a\\nb').group().split(\"\\n\") )"
   ]
  },
  {
   "cell_type": "code",
   "execution_count": 38,
   "metadata": {},
   "outputs": [
    {
     "data": {
      "text/plain": [
       "[('052', '4478', '6685')]"
      ]
     },
     "execution_count": 38,
     "metadata": {},
     "output_type": "execute_result"
    }
   ],
   "source": [
    "p = re.compile(\"(\\d{3})-(\\d{4})-(\\d{4})\")\n",
    "s = \"052-4478-6685\"\n",
    "p.findall(s)"
   ]
  },
  {
   "cell_type": "code",
   "execution_count": 53,
   "metadata": {},
   "outputs": [
    {
     "name": "stdout",
     "output_type": "stream",
     "text": [
      "052 4478 6685\n",
      "010-8899-6685\n",
      "052 4478 6685\n"
     ]
    }
   ],
   "source": [
    "print( p.sub(\"\\g<1>\", s), p.sub(\"\\g<2>\", s), p.sub(\"\\g<3>\", s) )\n",
    "print( p.sub(\"010-8899-\\g<3>\", s) )\n",
    "print( p.match(s).group(1), p.match(s).group(2), p.match(s).group(3) )"
   ]
  },
  {
   "cell_type": "code",
   "execution_count": 123,
   "metadata": {},
   "outputs": [
    {
     "name": "stdout",
     "output_type": "stream",
     "text": [
      "abc\\n\\Sdef\n",
      "['abc\\\\n\\\\S']\n",
      "[]\n"
     ]
    }
   ],
   "source": [
    "s = r'abc\\n\\Sdef'\n",
    "p1 = re.compile(r\"abc\\\\n\\\\S\")\n",
    "p2 = re.compile(\"abc\\\\n\\\\S\")\n",
    "p2 = re.compile(\"abc\\n\\S\")\n",
    "\n",
    "print(s)\n",
    "print(p1.findall(s))\n",
    "print(p2.findall(s))"
   ]
  },
  {
   "cell_type": "code",
   "execution_count": 124,
   "metadata": {},
   "outputs": [
    {
     "name": "stdout",
     "output_type": "stream",
     "text": [
      "C\\Users\\MyName\\Desktop\n",
      "C\\Users\\MyName\\Desktop\n"
     ]
    }
   ],
   "source": [
    "print(r\"C\\Users\\MyName\\Desktop\")\n",
    "print(\"C\\\\Users\\\\MyName\\\\Desktop\")"
   ]
  },
  {
   "cell_type": "code",
   "execution_count": 127,
   "metadata": {},
   "outputs": [
    {
     "data": {
      "text/plain": [
       "['a', 'b', 'c', 'A', 'B', 'C']"
      ]
     },
     "execution_count": 127,
     "metadata": {},
     "output_type": "execute_result"
    }
   ],
   "source": [
    "s = \"abcABC\"\n",
    "p = re.compile(\"[a-z]\", re.I)\n",
    "p.findall(s)"
   ]
  },
  {
   "cell_type": "code",
   "execution_count": 133,
   "metadata": {},
   "outputs": [
    {
     "data": {
      "text/plain": [
       "['010-0521-1122', '123-456-7788']"
      ]
     },
     "execution_count": 133,
     "metadata": {},
     "output_type": "execute_result"
    }
   ],
   "source": [
    "a = ['abc', '010-0521-1122', '123-456-7788', '0000-0001', '237468-58439-2374586', '12345678']\n",
    "p = re.compile('\\d{3}-\\d{3,4}-\\d{4}')\n",
    "list(filter(p.match, a))\n",
    "\n"
   ]
  }
 ],
 "metadata": {
  "interpreter": {
   "hash": "00180a5bdd247a65e78bcee3d10252a9d25e509a0fd046d7030ebd97626dc827"
  },
  "kernelspec": {
   "display_name": "Python 3.9.9 64-bit ('venv': venv)",
   "language": "python",
   "name": "python3"
  },
  "language_info": {
   "codemirror_mode": {
    "name": "ipython",
    "version": 3
   },
   "file_extension": ".py",
   "mimetype": "text/x-python",
   "name": "python",
   "nbconvert_exporter": "python",
   "pygments_lexer": "ipython3",
   "version": "3.9.9"
  },
  "orig_nbformat": 4
 },
 "nbformat": 4,
 "nbformat_minor": 2
}
